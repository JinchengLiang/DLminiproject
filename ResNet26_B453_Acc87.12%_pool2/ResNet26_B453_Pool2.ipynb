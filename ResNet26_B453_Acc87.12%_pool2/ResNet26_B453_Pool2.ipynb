{
  "nbformat": 4,
  "nbformat_minor": 0,
  "metadata": {
    "colab": {
      "provenance": [],
      "machine_shape": "hm"
    },
    "kernelspec": {
      "name": "python3",
      "display_name": "Python 3"
    },
    "language_info": {
      "name": "python"
    },
    "gpuClass": "standard",
    "accelerator": "GPU"
  },
  "cells": [
    {
      "cell_type": "markdown",
      "source": [
        "# Resnet with 3 residual layers<sup>[[1]](https://github.com/kuangliu/pytorch-cifar/blob/master/models/resnet.py)\n",
        "\n",
        "Change P (average pool kernel size) from 4 to 2."
      ],
      "metadata": {
        "id": "n04x-gENLza-"
      }
    },
    {
      "cell_type": "markdown",
      "source": [
        "## Build Model"
      ],
      "metadata": {
        "id": "6sSqeuD9wRLz"
      }
    },
    {
      "cell_type": "code",
      "source": [
        "from google.colab import drive\n",
        "drive.mount('/content/drive')\n",
        "import sys\n",
        "sys.path.append('/content/drive/MyDrive/DLminiproject')"
      ],
      "metadata": {
        "colab": {
          "base_uri": "https://localhost:8080/"
        },
        "id": "4fLRgECJubCX",
        "outputId": "edef6998-1663-45aa-e79e-5c15487abed5"
      },
      "execution_count": 1,
      "outputs": [
        {
          "output_type": "stream",
          "name": "stdout",
          "text": [
            "Mounted at /content/drive\n"
          ]
        }
      ]
    },
    {
      "cell_type": "code",
      "source": [
        "import torch\n",
        "import torch.nn as nn\n",
        "import torch.optim as optim\n",
        "import torch.nn.functional as F\n",
        "import torch.backends.cudnn as cudnn\n",
        "\n",
        "import torchvision\n",
        "import torchvision.transforms as transforms\n",
        "\n",
        "import os\n",
        "# import argparse\n",
        "\n",
        "# from models import *\n",
        "# from utils import progress_bar\n",
        "import time\n",
        "cur_time = time.time()\n",
        "str_time = str(int(cur_time)) # used to rename file"
      ],
      "metadata": {
        "id": "cfUepHzbCmbf"
      },
      "execution_count": 2,
      "outputs": []
    },
    {
      "cell_type": "markdown",
      "source": [
        "### ResNet"
      ],
      "metadata": {
        "id": "Q-MSUQUywVWu"
      }
    },
    {
      "cell_type": "code",
      "execution_count": 3,
      "metadata": {
        "id": "VWr7m3IeEPhc",
        "colab": {
          "base_uri": "https://localhost:8080/"
        },
        "outputId": "7dee2dfe-fc90-4e45-eba5-75df0e128775"
      },
      "outputs": [
        {
          "output_type": "stream",
          "name": "stdout",
          "text": [
            "torch.Size([1, 10])\n"
          ]
        }
      ],
      "source": [
        "'''ResNet in PyTorch.\n",
        "\n",
        "For Pre-activation ResNet, see 'preact_resnet.py'.\n",
        "\n",
        "Reference:\n",
        "[1] Kaiming He, Xiangyu Zhang, Shaoqing Ren, Jian Sun\n",
        "    Deep Residual Learning for Image Recognition. arXiv:1512.03385\n",
        "'''\n",
        "import torch\n",
        "import torch.nn as nn\n",
        "import torch.nn.functional as F\n",
        "\n",
        "\n",
        "class BasicBlock(nn.Module):\n",
        "    expansion = 1\n",
        "\n",
        "    def __init__(self, in_planes, planes, stride=1):\n",
        "        super(BasicBlock, self).__init__()\n",
        "        self.conv1 = nn.Conv2d(\n",
        "            in_planes, planes, kernel_size=3, stride=stride, padding=1, bias=False)\n",
        "        self.bn1 = nn.BatchNorm2d(planes)\n",
        "        self.conv2 = nn.Conv2d(planes, planes, kernel_size=3,\n",
        "                               stride=1, padding=1, bias=False)\n",
        "        self.bn2 = nn.BatchNorm2d(planes)\n",
        "\n",
        "        self.shortcut = nn.Sequential()\n",
        "        if stride != 1 or in_planes != self.expansion*planes:\n",
        "            self.shortcut = nn.Sequential(\n",
        "                nn.Conv2d(in_planes, self.expansion*planes,\n",
        "                          kernel_size=1, stride=stride, bias=False),\n",
        "                nn.BatchNorm2d(self.expansion*planes)\n",
        "            )\n",
        "\n",
        "    def forward(self, x):\n",
        "        out = F.relu(self.bn1(self.conv1(x)))\n",
        "        out = self.bn2(self.conv2(out))\n",
        "        out += self.shortcut(x)\n",
        "        out = F.relu(out)\n",
        "        return out\n",
        "\n",
        "\n",
        "class Bottleneck(nn.Module):\n",
        "    expansion = 4\n",
        "\n",
        "    def __init__(self, in_planes, planes, stride=1):\n",
        "        super(Bottleneck, self).__init__()\n",
        "        self.conv1 = nn.Conv2d(in_planes, planes, kernel_size=1, bias=False)\n",
        "        self.bn1 = nn.BatchNorm2d(planes)\n",
        "        self.conv2 = nn.Conv2d(planes, planes, kernel_size=3,\n",
        "                               stride=stride, padding=1, bias=False)\n",
        "        self.bn2 = nn.BatchNorm2d(planes)\n",
        "        self.conv3 = nn.Conv2d(planes, self.expansion *\n",
        "                               planes, kernel_size=1, bias=False)\n",
        "        self.bn3 = nn.BatchNorm2d(self.expansion*planes)\n",
        "\n",
        "        self.shortcut = nn.Sequential()\n",
        "        if stride != 1 or in_planes != self.expansion*planes:\n",
        "            self.shortcut = nn.Sequential(\n",
        "                nn.Conv2d(in_planes, self.expansion*planes,\n",
        "                          kernel_size=1, stride=stride, bias=False),\n",
        "                nn.BatchNorm2d(self.expansion*planes)\n",
        "            )\n",
        "\n",
        "    def forward(self, x):\n",
        "        out = F.relu(self.bn1(self.conv1(x)))\n",
        "        out = F.relu(self.bn2(self.conv2(out)))\n",
        "        out = self.bn3(self.conv3(out))\n",
        "        out += self.shortcut(x)\n",
        "        out = F.relu(out)\n",
        "        return out\n",
        "\n",
        "\n",
        "class ResNet(nn.Module):\n",
        "    def __init__(self, block, num_blocks, num_classes=10):\n",
        "        super(ResNet, self).__init__()\n",
        "        self.in_planes = 64\n",
        "\n",
        "        self.conv1 = nn.Conv2d(3, 64, kernel_size=3,\n",
        "                               stride=1, padding=1, bias=False)\n",
        "        self.bn1 = nn.BatchNorm2d(64)\n",
        "        self.layer1 = self._make_layer(block, 64, num_blocks[0], stride=1)\n",
        "        self.layer2 = self._make_layer(block, 128, num_blocks[1], stride=4)\n",
        "        self.layer3 = self._make_layer(block, 256, num_blocks[2], stride=4)\n",
        "        # self.layer4 = self._make_layer(block, 512, num_blocks[3], stride=2)\n",
        "        # self.linear = nn.Linear(512*block.expansion, num_classes)\n",
        "        self.linear = nn.Linear(256*block.expansion, num_classes)\n",
        "\n",
        "    def _make_layer(self, block, planes, num_blocks, stride):\n",
        "        strides = [stride] + [1]*(num_blocks-1)\n",
        "        layers = []\n",
        "        for stride in strides:\n",
        "            layers.append(block(self.in_planes, planes, stride))\n",
        "            self.in_planes = planes * block.expansion\n",
        "        return nn.Sequential(*layers)\n",
        "\n",
        "    def forward(self, x):\n",
        "        out = F.relu(self.bn1(self.conv1(x)))\n",
        "        out = self.layer1(out)\n",
        "        out = self.layer2(out)\n",
        "        out = self.layer3(out)\n",
        "        # out = self.layer4(out)\n",
        "        # out = F.avg_pool2d(out, 4)\n",
        "        out = F.avg_pool2d(out, 2)\n",
        "        out = out.view(out.size(0), -1)\n",
        "        out = self.linear(out)\n",
        "        return out\n",
        "\n",
        "\n",
        "def ResNet26():\n",
        "    return ResNet(BasicBlock, [4, 5, 3])\n",
        "\n",
        "\n",
        "def test():\n",
        "    net = ResNet26()\n",
        "    y = net(torch.randn(1, 3, 32, 32))\n",
        "    print(y.size())\n",
        "\n",
        "test()"
      ]
    },
    {
      "cell_type": "markdown",
      "source": [
        "### Total Trainable Parameters"
      ],
      "metadata": {
        "id": "blVQmbhVwZCB"
      }
    },
    {
      "cell_type": "code",
      "source": [
        "from torchsummary import summary\n",
        "device = \"cuda\" if torch.cuda.is_available() else \"cpu\"\n",
        "net = ResNet26()\n",
        "net = net.to(device)\n",
        "summary(net, (3, 32, 32))"
      ],
      "metadata": {
        "colab": {
          "base_uri": "https://localhost:8080/"
        },
        "id": "SnS8nmt1wktU",
        "outputId": "7889b4ee-96dc-435a-a99a-69b35c51a9cf"
      },
      "execution_count": 4,
      "outputs": [
        {
          "output_type": "stream",
          "name": "stdout",
          "text": [
            "----------------------------------------------------------------\n",
            "        Layer (type)               Output Shape         Param #\n",
            "================================================================\n",
            "            Conv2d-1           [-1, 64, 32, 32]           1,728\n",
            "       BatchNorm2d-2           [-1, 64, 32, 32]             128\n",
            "            Conv2d-3           [-1, 64, 32, 32]          36,864\n",
            "       BatchNorm2d-4           [-1, 64, 32, 32]             128\n",
            "            Conv2d-5           [-1, 64, 32, 32]          36,864\n",
            "       BatchNorm2d-6           [-1, 64, 32, 32]             128\n",
            "        BasicBlock-7           [-1, 64, 32, 32]               0\n",
            "            Conv2d-8           [-1, 64, 32, 32]          36,864\n",
            "       BatchNorm2d-9           [-1, 64, 32, 32]             128\n",
            "           Conv2d-10           [-1, 64, 32, 32]          36,864\n",
            "      BatchNorm2d-11           [-1, 64, 32, 32]             128\n",
            "       BasicBlock-12           [-1, 64, 32, 32]               0\n",
            "           Conv2d-13           [-1, 64, 32, 32]          36,864\n",
            "      BatchNorm2d-14           [-1, 64, 32, 32]             128\n",
            "           Conv2d-15           [-1, 64, 32, 32]          36,864\n",
            "      BatchNorm2d-16           [-1, 64, 32, 32]             128\n",
            "       BasicBlock-17           [-1, 64, 32, 32]               0\n",
            "           Conv2d-18           [-1, 64, 32, 32]          36,864\n",
            "      BatchNorm2d-19           [-1, 64, 32, 32]             128\n",
            "           Conv2d-20           [-1, 64, 32, 32]          36,864\n",
            "      BatchNorm2d-21           [-1, 64, 32, 32]             128\n",
            "       BasicBlock-22           [-1, 64, 32, 32]               0\n",
            "           Conv2d-23            [-1, 128, 8, 8]          73,728\n",
            "      BatchNorm2d-24            [-1, 128, 8, 8]             256\n",
            "           Conv2d-25            [-1, 128, 8, 8]         147,456\n",
            "      BatchNorm2d-26            [-1, 128, 8, 8]             256\n",
            "           Conv2d-27            [-1, 128, 8, 8]           8,192\n",
            "      BatchNorm2d-28            [-1, 128, 8, 8]             256\n",
            "       BasicBlock-29            [-1, 128, 8, 8]               0\n",
            "           Conv2d-30            [-1, 128, 8, 8]         147,456\n",
            "      BatchNorm2d-31            [-1, 128, 8, 8]             256\n",
            "           Conv2d-32            [-1, 128, 8, 8]         147,456\n",
            "      BatchNorm2d-33            [-1, 128, 8, 8]             256\n",
            "       BasicBlock-34            [-1, 128, 8, 8]               0\n",
            "           Conv2d-35            [-1, 128, 8, 8]         147,456\n",
            "      BatchNorm2d-36            [-1, 128, 8, 8]             256\n",
            "           Conv2d-37            [-1, 128, 8, 8]         147,456\n",
            "      BatchNorm2d-38            [-1, 128, 8, 8]             256\n",
            "       BasicBlock-39            [-1, 128, 8, 8]               0\n",
            "           Conv2d-40            [-1, 128, 8, 8]         147,456\n",
            "      BatchNorm2d-41            [-1, 128, 8, 8]             256\n",
            "           Conv2d-42            [-1, 128, 8, 8]         147,456\n",
            "      BatchNorm2d-43            [-1, 128, 8, 8]             256\n",
            "       BasicBlock-44            [-1, 128, 8, 8]               0\n",
            "           Conv2d-45            [-1, 128, 8, 8]         147,456\n",
            "      BatchNorm2d-46            [-1, 128, 8, 8]             256\n",
            "           Conv2d-47            [-1, 128, 8, 8]         147,456\n",
            "      BatchNorm2d-48            [-1, 128, 8, 8]             256\n",
            "       BasicBlock-49            [-1, 128, 8, 8]               0\n",
            "           Conv2d-50            [-1, 256, 2, 2]         294,912\n",
            "      BatchNorm2d-51            [-1, 256, 2, 2]             512\n",
            "           Conv2d-52            [-1, 256, 2, 2]         589,824\n",
            "      BatchNorm2d-53            [-1, 256, 2, 2]             512\n",
            "           Conv2d-54            [-1, 256, 2, 2]          32,768\n",
            "      BatchNorm2d-55            [-1, 256, 2, 2]             512\n",
            "       BasicBlock-56            [-1, 256, 2, 2]               0\n",
            "           Conv2d-57            [-1, 256, 2, 2]         589,824\n",
            "      BatchNorm2d-58            [-1, 256, 2, 2]             512\n",
            "           Conv2d-59            [-1, 256, 2, 2]         589,824\n",
            "      BatchNorm2d-60            [-1, 256, 2, 2]             512\n",
            "       BasicBlock-61            [-1, 256, 2, 2]               0\n",
            "           Conv2d-62            [-1, 256, 2, 2]         589,824\n",
            "      BatchNorm2d-63            [-1, 256, 2, 2]             512\n",
            "           Conv2d-64            [-1, 256, 2, 2]         589,824\n",
            "      BatchNorm2d-65            [-1, 256, 2, 2]             512\n",
            "       BasicBlock-66            [-1, 256, 2, 2]               0\n",
            "           Linear-67                   [-1, 10]           2,570\n",
            "================================================================\n",
            "Total params: 4,992,586\n",
            "Trainable params: 4,992,586\n",
            "Non-trainable params: 0\n",
            "----------------------------------------------------------------\n",
            "Input size (MB): 0.01\n",
            "Forward/backward pass size (MB): 12.82\n",
            "Params size (MB): 19.05\n",
            "Estimated Total Size (MB): 31.88\n",
            "----------------------------------------------------------------\n"
          ]
        }
      ]
    },
    {
      "cell_type": "markdown",
      "source": [
        "### Model Criterion and Optimizer"
      ],
      "metadata": {
        "id": "uDood0WJxl6Q"
      }
    },
    {
      "cell_type": "code",
      "execution_count": 5,
      "metadata": {
        "colab": {
          "base_uri": "https://localhost:8080/"
        },
        "id": "faWqWWnNSk_E",
        "outputId": "728f8c55-0d16-4cf0-cc89-d40e3a0542b1"
      },
      "outputs": [
        {
          "output_type": "stream",
          "name": "stdout",
          "text": [
            "==> Building model..\n"
          ]
        }
      ],
      "source": [
        "# Model\n",
        "print('==> Building model..')\n",
        "# net = ResNet(BasicBlock, [4, 5, 3])\n",
        "# device = 'cuda' if torch.cuda.is_available() else 'cpu'\n",
        "# net = net.to(device)\n",
        "if device == 'cuda':\n",
        "    net = torch.nn.DataParallel(net)\n",
        "    cudnn.benchmark = True\n",
        "\n",
        "'''if args.resume:\n",
        "    # Load checkpoint.\n",
        "    print('==> Resuming from checkpoint..')\n",
        "    assert os.path.isdir('checkpoint'), 'Error: no checkpoint directory found!'\n",
        "    checkpoint = torch.load('./checkpoint/ckpt.pth')\n",
        "    net.load_state_dict(checkpoint['net'])\n",
        "    best_acc = checkpoint['acc']\n",
        "    start_epoch = checkpoint['epoch']'''\n",
        "\n",
        "criterion = nn.CrossEntropyLoss()\n",
        "'''optimizer = optim.SGD(net.parameters(), lr=args.lr,\n",
        "                      momentum=0.9, weight_decay=5e-4)'''\n",
        "optimizer = optim.SGD(net.parameters(), lr=0.1,\n",
        "                      momentum=0.9, weight_decay=5e-4)\n",
        "scheduler = torch.optim.lr_scheduler.CosineAnnealingLR(optimizer, T_max=600)"
      ]
    },
    {
      "cell_type": "markdown",
      "metadata": {
        "id": "uOQao9w4Vj8-"
      },
      "source": [
        "## Preparing Data<sup>[[1]](https://github.com/kuangliu/pytorch-cifar/blob/master/main.py)\n",
        "\n"
      ]
    },
    {
      "cell_type": "code",
      "execution_count": 6,
      "metadata": {
        "colab": {
          "base_uri": "https://localhost:8080/"
        },
        "id": "HiQOlhgGV4dM",
        "outputId": "8573b940-1249-4e68-e24b-e0106d85a14b"
      },
      "outputs": [
        {
          "output_type": "stream",
          "name": "stdout",
          "text": [
            "==> Preparing data..\n",
            "Downloading https://www.cs.toronto.edu/~kriz/cifar-10-python.tar.gz to ./data/cifar-10-python.tar.gz\n"
          ]
        },
        {
          "output_type": "stream",
          "name": "stderr",
          "text": [
            "100%|██████████| 170498071/170498071 [00:12<00:00, 13178770.21it/s]\n"
          ]
        },
        {
          "output_type": "stream",
          "name": "stdout",
          "text": [
            "Extracting ./data/cifar-10-python.tar.gz to ./data\n",
            "Files already downloaded and verified\n"
          ]
        }
      ],
      "source": [
        "# Data\n",
        "print('==> Preparing data..')\n",
        "transform_train = transforms.Compose([\n",
        "    transforms.RandomCrop(32, padding=4),\n",
        "    transforms.RandomHorizontalFlip(),\n",
        "    transforms.ToTensor(),\n",
        "    transforms.Normalize((0.4914, 0.4822, 0.4465), (0.2023, 0.1994, 0.2010)),\n",
        "])\n",
        "\n",
        "transform_test = transforms.Compose([\n",
        "    transforms.ToTensor(),\n",
        "    transforms.Normalize((0.4914, 0.4822, 0.4465), (0.2023, 0.1994, 0.2010)),\n",
        "])\n",
        "\n",
        "trainset = torchvision.datasets.CIFAR10(\n",
        "    root='./data', train=True, download=True, transform=transform_train)\n",
        "trainloader = torch.utils.data.DataLoader(\n",
        "    trainset, batch_size=128, shuffle=True, num_workers=2)\n",
        "\n",
        "testset = torchvision.datasets.CIFAR10(\n",
        "    root='./data', train=False, download=True, transform=transform_test)\n",
        "testloader = torch.utils.data.DataLoader(\n",
        "    testset, batch_size=100, shuffle=False, num_workers=2)\n",
        "\n",
        "classes = ('plane', 'car', 'bird', 'cat', 'deer',\n",
        "           'dog', 'frog', 'horse', 'ship', 'truck')"
      ]
    },
    {
      "cell_type": "markdown",
      "metadata": {
        "id": "LYw05AKJWTPR"
      },
      "source": [
        "## Define Train Function<sup>[[1]](https://github.com/kuangliu/pytorch-cifar/blob/master/main.py)"
      ]
    },
    {
      "cell_type": "code",
      "execution_count": 7,
      "metadata": {
        "id": "DSIbyL9jQUh6"
      },
      "outputs": [],
      "source": [
        "# Training\n",
        "def train(epoch):\n",
        "    # print('\\nEpoch: %d' % epoch)\n",
        "    net.train()\n",
        "    train_loss = 0\n",
        "    correct = 0\n",
        "    total = 0\n",
        "    for batch_idx, (inputs, targets) in enumerate(trainloader):\n",
        "        inputs, targets = inputs.to(device), targets.to(device)\n",
        "        optimizer.zero_grad()\n",
        "        outputs = net(inputs)\n",
        "        loss = criterion(outputs, targets)\n",
        "        loss.backward()\n",
        "        optimizer.step()\n",
        "\n",
        "        train_loss += loss.item()\n",
        "        _, predicted = outputs.max(1)\n",
        "        total += targets.size(0)\n",
        "        correct += predicted.eq(targets).sum().item()\n",
        "\n",
        "        '''progress_bar(batch_idx, len(trainloader), 'Loss: %.3f | Acc: %.3f%% (%d/%d)' \n",
        "                     % (train_loss/(batch_idx+1), 100.*correct/total, correct, total))'''\n",
        "    aver_train_loss = float(train_loss/(batch_idx+1))\n",
        "    aver_train_accuracy = float(correct/total)\n",
        "    return aver_train_loss, aver_train_accuracy"
      ]
    },
    {
      "cell_type": "markdown",
      "metadata": {
        "id": "f9241oeMWdoJ"
      },
      "source": [
        "## Define Test Function<sup>[[1]](https://github.com/kuangliu/pytorch-cifar/blob/master/main.py)"
      ]
    },
    {
      "cell_type": "code",
      "execution_count": 8,
      "metadata": {
        "id": "i7Vj4fVGRQDY"
      },
      "outputs": [],
      "source": [
        "best_acc = 0  # best test accuracy\n",
        "def test(epoch):\n",
        "    global best_acc\n",
        "    net.eval()\n",
        "    test_loss = 0\n",
        "    correct = 0\n",
        "    total = 0\n",
        "    with torch.no_grad():\n",
        "        for batch_idx, (inputs, targets) in enumerate(testloader):\n",
        "            inputs, targets = inputs.to(device), targets.to(device)\n",
        "            outputs = net(inputs)\n",
        "            loss = criterion(outputs, targets)\n",
        "\n",
        "            test_loss += loss.item()\n",
        "            _, predicted = outputs.max(1)\n",
        "            total += targets.size(0)\n",
        "            correct += predicted.eq(targets).sum().item()\n",
        "\n",
        "            '''progress_bar(batch_idx, len(testloader), 'Loss: %.3f | Acc: %.3f%% (%d/%d)' \n",
        "                         % (test_loss/(batch_idx+1), 100.*correct/total, correct, total))'''\n",
        "\n",
        "    # Save checkpoint.\n",
        "    acc = 100.*correct/total\n",
        "    if acc > best_acc:\n",
        "        # print('Saving..')\n",
        "        state = {'net': net.state_dict(), 'acc': acc, 'epoch': epoch,}\n",
        "        if not os.path.isdir('checkpoint'):\n",
        "            os.mkdir('checkpoint')\n",
        "        torch.save(state, './checkpoint/ckpt_' + str_time + '.pth')\n",
        "        best_acc = acc\n",
        "\n",
        "    aver_test_loss = float(test_loss / (batch_idx + 1))\n",
        "    aver_test_accuracy = float(correct / total)\n",
        "    return aver_test_loss, aver_test_accuracy"
      ]
    },
    {
      "cell_type": "markdown",
      "metadata": {
        "id": "trGTzOHnWqeD"
      },
      "source": [
        "## Train and Test"
      ]
    },
    {
      "cell_type": "code",
      "execution_count": 9,
      "metadata": {
        "colab": {
          "base_uri": "https://localhost:8080/"
        },
        "id": "4DsZfMvIWzvB",
        "outputId": "fa6002d1-be5d-4abc-e36e-1e1ddb5df9a4"
      },
      "outputs": [
        {
          "output_type": "stream",
          "name": "stdout",
          "text": [
            "Epoch 10/200, Train Loss 0.570, Train Acc 0.804, Test Loss 0.664, Test Acc 0.775\n",
            "Epoch 20/200, Train Loss 0.467, Train Acc 0.842, Test Loss 0.501, Test Acc 0.830\n",
            "Epoch 30/200, Train Loss 0.423, Train Acc 0.857, Test Loss 0.604, Test Acc 0.794\n",
            "Epoch 40/200, Train Loss 0.403, Train Acc 0.864, Test Loss 0.610, Test Acc 0.799\n",
            "Epoch 50/200, Train Loss 0.397, Train Acc 0.867, Test Loss 0.580, Test Acc 0.813\n",
            "Epoch 60/200, Train Loss 0.387, Train Acc 0.870, Test Loss 0.613, Test Acc 0.801\n",
            "Epoch 70/200, Train Loss 0.378, Train Acc 0.872, Test Loss 0.686, Test Acc 0.782\n",
            "Epoch 80/200, Train Loss 0.380, Train Acc 0.872, Test Loss 0.423, Test Acc 0.858\n",
            "Epoch 90/200, Train Loss 0.369, Train Acc 0.875, Test Loss 0.674, Test Acc 0.781\n",
            "Epoch 100/200, Train Loss 0.365, Train Acc 0.877, Test Loss 0.622, Test Acc 0.807\n",
            "Epoch 110/200, Train Loss 0.357, Train Acc 0.881, Test Loss 0.498, Test Acc 0.836\n",
            "Epoch 120/200, Train Loss 0.357, Train Acc 0.880, Test Loss 0.535, Test Acc 0.825\n",
            "Epoch 130/200, Train Loss 0.352, Train Acc 0.880, Test Loss 0.679, Test Acc 0.783\n",
            "Epoch 140/200, Train Loss 0.346, Train Acc 0.884, Test Loss 0.699, Test Acc 0.789\n",
            "Epoch 150/200, Train Loss 0.345, Train Acc 0.883, Test Loss 0.611, Test Acc 0.815\n",
            "Epoch 160/200, Train Loss 0.334, Train Acc 0.888, Test Loss 0.518, Test Acc 0.823\n",
            "Epoch 170/200, Train Loss 0.328, Train Acc 0.888, Test Loss 0.517, Test Acc 0.835\n",
            "Epoch 180/200, Train Loss 0.319, Train Acc 0.891, Test Loss 0.634, Test Acc 0.799\n",
            "Epoch 190/200, Train Loss 0.319, Train Acc 0.892, Test Loss 0.543, Test Acc 0.836\n",
            "Epoch 200/200, Train Loss 0.307, Train Acc 0.898, Test Loss 0.441, Test Acc 0.852\n",
            "Best Acc: 87.12%\n"
          ]
        }
      ],
      "source": [
        "import json\n",
        "import collections\n",
        "\n",
        "EPOCH = 200\n",
        "start_epoch = 0 # start from epoch 0 or last checkpoint epoch\n",
        "JSON_FILE = './epoch_data_Resnet_cos_steplr_'+ str_time +'.json'\n",
        "epoch_data = collections.OrderedDict()\n",
        "for epoch in range(start_epoch, start_epoch+EPOCH):\n",
        "    train_loss, train_accuracy = train(epoch)\n",
        "    epoch_data[epoch] = {'train_loss': train_loss, 'train_accuracy': train_accuracy}\n",
        "    test_loss, test_accuracy = test(epoch)\n",
        "    epoch_data[epoch]['test_loss'], epoch_data[epoch]['test_accuracy'] = test_loss, test_accuracy\n",
        "    scheduler.step()\n",
        "    if epoch % 10 == 9:\n",
        "      print(f'Epoch {epoch+1}/{EPOCH}, Train Loss {train_loss:.3f}, Train Acc {train_accuracy:.3f}, Test Loss {test_loss:.3f}, Test Acc {test_accuracy:.3f}')\n",
        "\n",
        "epoch_data_json = json.dumps(epoch_data)\n",
        "json_file = open(JSON_FILE, 'w')\n",
        "json_file.write(epoch_data_json)\n",
        "json_file.close()\n",
        "print(f'Best Acc: {best_acc}%')"
      ]
    }
  ]
}