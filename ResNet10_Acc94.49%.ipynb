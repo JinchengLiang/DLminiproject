{
  "nbformat": 4,
  "nbformat_minor": 0,
  "metadata": {
    "colab": {
      "provenance": []
    },
    "kernelspec": {
      "name": "python3",
      "display_name": "Python 3"
    },
    "language_info": {
      "name": "python"
    },
    "accelerator": "GPU",
    "gpuClass": "standard"
  },
  "cells": [
    {
      "cell_type": "markdown",
      "source": [
        "# ResNet10 Performance\n",
        "Upload [resnet.py](https://github.com/kuangliu/pytorch-cifar/blob/master/models/resnet.py) to session storage first."
      ],
      "metadata": {
        "id": "z5Zd1XTkQH7_"
      }
    },
    {
      "cell_type": "code",
      "source": [
        "from resnet import *"
      ],
      "metadata": {
        "id": "bAbd9yDjB-e2"
      },
      "execution_count": 1,
      "outputs": []
    },
    {
      "cell_type": "code",
      "source": [
        "import torch\n",
        "import torch.nn as nn\n",
        "import torch.optim as optim\n",
        "import torch.nn.functional as F\n",
        "import torch.backends.cudnn as cudnn\n",
        "\n",
        "import torchvision\n",
        "import torchvision.transforms as transforms\n",
        "\n",
        "import os\n",
        "# import argparse\n",
        "\n",
        "# from models import *\n",
        "# from utils import progress_bar\n"
      ],
      "metadata": {
        "id": "mNbSQxLQU3Wg"
      },
      "execution_count": 2,
      "outputs": []
    },
    {
      "cell_type": "markdown",
      "source": [
        "## Preparing Data<sup>[1](https://github.com/kuangliu/pytorch-cifar/blob/master/main.py)\n",
        "\n"
      ],
      "metadata": {
        "id": "uOQao9w4Vj8-"
      }
    },
    {
      "cell_type": "code",
      "source": [
        "# Data\n",
        "print('==> Preparing data..')\n",
        "transform_train = transforms.Compose([\n",
        "    transforms.RandomCrop(32, padding=4),\n",
        "    transforms.RandomHorizontalFlip(),\n",
        "    transforms.ToTensor(),\n",
        "    transforms.Normalize((0.4914, 0.4822, 0.4465), (0.2023, 0.1994, 0.2010)),\n",
        "])\n",
        "\n",
        "transform_test = transforms.Compose([\n",
        "    transforms.ToTensor(),\n",
        "    transforms.Normalize((0.4914, 0.4822, 0.4465), (0.2023, 0.1994, 0.2010)),\n",
        "])\n",
        "\n",
        "trainset = torchvision.datasets.CIFAR10(\n",
        "    root='./data', train=True, download=True, transform=transform_train)\n",
        "trainloader = torch.utils.data.DataLoader(\n",
        "    trainset, batch_size=128, shuffle=True, num_workers=2)\n",
        "\n",
        "testset = torchvision.datasets.CIFAR10(\n",
        "    root='./data', train=False, download=True, transform=transform_test)\n",
        "testloader = torch.utils.data.DataLoader(\n",
        "    testset, batch_size=100, shuffle=False, num_workers=2)\n",
        "\n",
        "classes = ('plane', 'car', 'bird', 'cat', 'deer',\n",
        "           'dog', 'frog', 'horse', 'ship', 'truck')"
      ],
      "metadata": {
        "colab": {
          "base_uri": "https://localhost:8080/"
        },
        "id": "HiQOlhgGV4dM",
        "outputId": "e5ecd3c3-91bd-4fc7-ecf1-e73077dcad08"
      },
      "execution_count": 3,
      "outputs": [
        {
          "output_type": "stream",
          "name": "stdout",
          "text": [
            "==> Preparing data..\n",
            "Downloading https://www.cs.toronto.edu/~kriz/cifar-10-python.tar.gz to ./data/cifar-10-python.tar.gz\n"
          ]
        },
        {
          "output_type": "stream",
          "name": "stderr",
          "text": [
            "100%|██████████| 170498071/170498071 [00:05<00:00, 29165047.04it/s]\n"
          ]
        },
        {
          "output_type": "stream",
          "name": "stdout",
          "text": [
            "Extracting ./data/cifar-10-python.tar.gz to ./data\n",
            "Files already downloaded and verified\n"
          ]
        }
      ]
    },
    {
      "cell_type": "markdown",
      "source": [
        "## Build Model<sup>[1](https://github.com/kuangliu/pytorch-cifar/blob/master/main.py)\n"
      ],
      "metadata": {
        "id": "BPu0DkX0Rs2q"
      }
    },
    {
      "cell_type": "code",
      "source": [
        "# Model\n",
        "print('==> Building model..')\n",
        "# net = VGG('VGG19')\n",
        "# net = ResNet18()\n",
        "net = ResNet(BasicBlock, [1, 1, 1, 1])\n",
        "# net = PreActResNet18()\n",
        "# net = GoogLeNet()\n",
        "# net = DenseNet121()\n",
        "# net = ResNeXt29_2x64d()\n",
        "# net = MobileNet()\n",
        "# net = MobileNetV2()\n",
        "# net = DPN92()\n",
        "# net = ShuffleNetG2()\n",
        "# net = SENet18()\n",
        "# net = ShuffleNetV2(1)\n",
        "# net = EfficientNetB0()\n",
        "# net = RegNetX_200MF()\n",
        "# net = SimpleDLA()\n",
        "device = 'cuda' if torch.cuda.is_available() else 'cpu'\n",
        "net = net.to(device)\n",
        "if device == 'cuda':\n",
        "    net = torch.nn.DataParallel(net)\n",
        "    cudnn.benchmark = True\n",
        "\n",
        "'''if args.resume:\n",
        "    # Load checkpoint.\n",
        "    print('==> Resuming from checkpoint..')\n",
        "    assert os.path.isdir('checkpoint'), 'Error: no checkpoint directory found!'\n",
        "    checkpoint = torch.load('./checkpoint/ckpt.pth')\n",
        "    net.load_state_dict(checkpoint['net'])\n",
        "    best_acc = checkpoint['acc']\n",
        "    start_epoch = checkpoint['epoch']'''\n",
        "\n",
        "criterion = nn.CrossEntropyLoss()\n",
        "'''optimizer = optim.SGD(net.parameters(), lr=args.lr,\n",
        "                      momentum=0.9, weight_decay=5e-4)'''\n",
        "optimizer = optim.SGD(net.parameters(), lr=0.1,\n",
        "                      momentum=0.9, weight_decay=5e-4)\n",
        "scheduler = torch.optim.lr_scheduler.CosineAnnealingLR(optimizer, T_max=200)"
      ],
      "metadata": {
        "colab": {
          "base_uri": "https://localhost:8080/"
        },
        "id": "faWqWWnNSk_E",
        "outputId": "4ad6c42a-378a-44ce-ec3c-563e7ac79439"
      },
      "execution_count": 4,
      "outputs": [
        {
          "output_type": "stream",
          "name": "stdout",
          "text": [
            "==> Building model..\n"
          ]
        }
      ]
    },
    {
      "cell_type": "markdown",
      "source": [
        "## Define Train Function<sup>[1](https://github.com/kuangliu/pytorch-cifar/blob/master/main.py)"
      ],
      "metadata": {
        "id": "LYw05AKJWTPR"
      }
    },
    {
      "cell_type": "code",
      "source": [
        "# Training\n",
        "def train(epoch):\n",
        "    # print('\\nEpoch: %d' % epoch)\n",
        "    net.train()\n",
        "    train_loss = 0\n",
        "    correct = 0\n",
        "    total = 0\n",
        "    for batch_idx, (inputs, targets) in enumerate(trainloader):\n",
        "        inputs, targets = inputs.to(device), targets.to(device)\n",
        "        optimizer.zero_grad()\n",
        "        outputs = net(inputs)\n",
        "        loss = criterion(outputs, targets)\n",
        "        loss.backward()\n",
        "        optimizer.step()\n",
        "\n",
        "        train_loss += loss.item()\n",
        "        _, predicted = outputs.max(1)\n",
        "        total += targets.size(0)\n",
        "        correct += predicted.eq(targets).sum().item()\n",
        "\n",
        "        '''progress_bar(batch_idx, len(trainloader), 'Loss: %.3f | Acc: %.3f%% (%d/%d)' \n",
        "                     % (train_loss/(batch_idx+1), 100.*correct/total, correct, total))'''\n",
        "    aver_train_loss = float(train_loss/(batch_idx+1))\n",
        "    aver_train_accuracy = float(correct/total)\n",
        "    return aver_train_loss, aver_train_accuracy"
      ],
      "metadata": {
        "id": "DSIbyL9jQUh6"
      },
      "execution_count": 5,
      "outputs": []
    },
    {
      "cell_type": "markdown",
      "source": [
        "## Define Test Function<sup>[1](https://github.com/kuangliu/pytorch-cifar/blob/master/main.py)"
      ],
      "metadata": {
        "id": "f9241oeMWdoJ"
      }
    },
    {
      "cell_type": "code",
      "source": [
        "best_acc = 0  # best test accuracy\n",
        "def test(epoch):\n",
        "    global best_acc\n",
        "    net.eval()\n",
        "    test_loss = 0\n",
        "    correct = 0\n",
        "    total = 0\n",
        "    with torch.no_grad():\n",
        "        for batch_idx, (inputs, targets) in enumerate(testloader):\n",
        "            inputs, targets = inputs.to(device), targets.to(device)\n",
        "            outputs = net(inputs)\n",
        "            loss = criterion(outputs, targets)\n",
        "\n",
        "            test_loss += loss.item()\n",
        "            _, predicted = outputs.max(1)\n",
        "            total += targets.size(0)\n",
        "            correct += predicted.eq(targets).sum().item()\n",
        "\n",
        "            '''progress_bar(batch_idx, len(testloader), 'Loss: %.3f | Acc: %.3f%% (%d/%d)' \n",
        "                         % (test_loss/(batch_idx+1), 100.*correct/total, correct, total))'''\n",
        "\n",
        "    # Save checkpoint.\n",
        "    acc = 100.*correct/total\n",
        "    if acc > best_acc:\n",
        "        # print('Saving..')\n",
        "        state = {'net': net.state_dict(), 'acc': acc, 'epoch': epoch,}\n",
        "        if not os.path.isdir('checkpoint'):\n",
        "            os.mkdir('checkpoint')\n",
        "        torch.save(state, './checkpoint/ckpt.pth')\n",
        "        best_acc = acc\n",
        "\n",
        "    aver_test_loss = float(test_loss / (batch_idx + 1))\n",
        "    aver_test_accuracy = float(correct / total)\n",
        "    return aver_test_loss, aver_test_accuracy"
      ],
      "metadata": {
        "id": "i7Vj4fVGRQDY"
      },
      "execution_count": 6,
      "outputs": []
    },
    {
      "cell_type": "markdown",
      "source": [
        "## Training and Test"
      ],
      "metadata": {
        "id": "trGTzOHnWqeD"
      }
    },
    {
      "cell_type": "code",
      "source": [
        "import json\n",
        "import collections\n",
        "\n",
        "EPOCH = 200\n",
        "start_epoch = 0 # start from epoch 0 or last checkpoint epoch\n",
        "JSON_FILE = '../epoch_data_Resnet10_cos_steplr.json'\n",
        "epoch_data = collections.OrderedDict()\n",
        "for epoch in range(start_epoch, start_epoch+200):\n",
        "    train_loss, train_accuracy = train(epoch)\n",
        "    epoch_data[epoch] = {'train_loss': train_loss, 'train_accuracy': train_accuracy}\n",
        "    test_loss, test_accuracy = test(epoch)\n",
        "    epoch_data[epoch]['test_loss'], epoch_data[epoch]['test_accuracy'] = test_loss, test_accuracy\n",
        "    scheduler.step()\n",
        "    if epoch % 10 == 9:\n",
        "      print(f'Epoch {epoch+1}/{EPOCH}, Train Loss {train_loss:.5f}, Train Acc {train_accuracy:.5f}, Test Loss {test_loss:.5f}, Test Acc {test_accuracy:.5f}')\n",
        "\n",
        "epoch_data_json = json.dumps(epoch_data)\n",
        "json_file = open(JSON_FILE, 'w')\n",
        "json_file.write(epoch_data_json)\n",
        "json_file.close()\n",
        "print(f'Best Acc: {best_acc}%')"
      ],
      "metadata": {
        "colab": {
          "base_uri": "https://localhost:8080/"
        },
        "outputId": "58c5bc2a-d4cc-4a81-dc19-cf0ce6587ac8",
        "id": "4DsZfMvIWzvB"
      },
      "execution_count": 7,
      "outputs": [
        {
          "output_type": "stream",
          "name": "stdout",
          "text": [
            "Epoch 10/200, Train Loss 0.47432, Train Acc 0.83534, Test Loss 0.56406, Test Acc 0.80730\n",
            "Epoch 20/200, Train Loss 0.38589, Train Acc 0.86758, Test Loss 0.54528, Test Acc 0.81810\n",
            "Epoch 30/200, Train Loss 0.35970, Train Acc 0.87706, Test Loss 0.44335, Test Acc 0.85140\n",
            "Epoch 40/200, Train Loss 0.33923, Train Acc 0.88324, Test Loss 0.92089, Test Acc 0.75060\n",
            "Epoch 50/200, Train Loss 0.32327, Train Acc 0.88788, Test Loss 0.52854, Test Acc 0.83210\n",
            "Epoch 60/200, Train Loss 0.29813, Train Acc 0.89582, Test Loss 0.40597, Test Acc 0.86480\n",
            "Epoch 70/200, Train Loss 0.28720, Train Acc 0.90032, Test Loss 0.36630, Test Acc 0.87850\n",
            "Epoch 80/200, Train Loss 0.26230, Train Acc 0.90904, Test Loss 0.54987, Test Acc 0.82430\n",
            "Epoch 90/200, Train Loss 0.24262, Train Acc 0.91540, Test Loss 0.44345, Test Acc 0.85980\n",
            "Epoch 100/200, Train Loss 0.21446, Train Acc 0.92534, Test Loss 0.36354, Test Acc 0.87840\n",
            "Epoch 110/200, Train Loss 0.18926, Train Acc 0.93504, Test Loss 0.37249, Test Acc 0.88690\n",
            "Epoch 120/200, Train Loss 0.15846, Train Acc 0.94558, Test Loss 0.40215, Test Acc 0.87890\n",
            "Epoch 130/200, Train Loss 0.13168, Train Acc 0.95478, Test Loss 0.34790, Test Acc 0.89470\n",
            "Epoch 140/200, Train Loss 0.09765, Train Acc 0.96618, Test Loss 0.29167, Test Acc 0.91100\n",
            "Epoch 150/200, Train Loss 0.05632, Train Acc 0.98152, Test Loss 0.30380, Test Acc 0.91290\n",
            "Epoch 160/200, Train Loss 0.02344, Train Acc 0.99416, Test Loss 0.26134, Test Acc 0.92700\n",
            "Epoch 170/200, Train Loss 0.00727, Train Acc 0.99912, Test Loss 0.21503, Test Acc 0.93900\n",
            "Epoch 180/200, Train Loss 0.00434, Train Acc 0.99984, Test Loss 0.20237, Test Acc 0.94270\n",
            "Epoch 190/200, Train Loss 0.00364, Train Acc 0.99986, Test Loss 0.19514, Test Acc 0.94430\n",
            "Epoch 200/200, Train Loss 0.00347, Train Acc 0.99990, Test Loss 0.19487, Test Acc 0.94430\n",
            "Best Acc: 94.49%\n"
          ]
        }
      ]
    },
    {
      "cell_type": "markdown",
      "source": [
        "## Data Analysis<sup>"
      ],
      "metadata": {
        "id": "p_JQGc5NlEri"
      }
    },
    {
      "cell_type": "code",
      "source": [
        "import matplotlib.pyplot as plt\n",
        "\n",
        "f = open(JSON_FILE)\n",
        "data1 = json.load(f)\n",
        "f.close()\n",
        "\n",
        "FEATURE = 'test_accuracy'\n",
        "\n",
        "x = [i for i in range(EPOCH)]\n",
        "feature1 = [data1[str(k)][FEATURE] for k in range(EPOCH)]\n",
        "\n",
        "plt.plot(x, feature1, label=FEATURE)\n",
        "plt.legend()\n",
        "plt.ylabel('accuracy')\n",
        "plt.xlabel('epoch')\n",
        "plt.grid()\n",
        "plt.show()\n"
      ],
      "metadata": {
        "id": "P2SGAGX0lT0-",
        "colab": {
          "base_uri": "https://localhost:8080/",
          "height": 449
        },
        "outputId": "690203ee-c6da-4b27-c28a-78c847c672c1"
      },
      "execution_count": 8,
      "outputs": [
        {
          "output_type": "display_data",
          "data": {
            "text/plain": [
              "<Figure size 640x480 with 1 Axes>"
            ],
            "image/png": "[encoded data removed]"
          },
          "metadata": {}
        }
      ]
    }
  ]
}