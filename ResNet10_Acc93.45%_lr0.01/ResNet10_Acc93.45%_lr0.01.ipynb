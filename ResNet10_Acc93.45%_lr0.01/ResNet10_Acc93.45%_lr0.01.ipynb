{
  "cells": [
    {
      "cell_type": "markdown",
      "metadata": {
        "id": "z5Zd1XTkQH7_"
      },
      "source": [
        "# ResNet10 Performance with learn rate 0.01\n",
        "Upload [resnet.py](https://github.com/kuangliu/pytorch-cifar/blob/master/models/resnet.py) to session storage first."
      ]
    },
    {
      "cell_type": "code",
      "execution_count": 1,
      "metadata": {
        "id": "bAbd9yDjB-e2"
      },
      "outputs": [],
      "source": [
        "from resnet import *"
      ]
    },
    {
      "cell_type": "code",
      "execution_count": 2,
      "metadata": {
        "id": "mNbSQxLQU3Wg"
      },
      "outputs": [],
      "source": [
        "import torch\n",
        "import torch.nn as nn\n",
        "import torch.optim as optim\n",
        "import torch.nn.functional as F\n",
        "import torch.backends.cudnn as cudnn\n",
        "\n",
        "import torchvision\n",
        "import torchvision.transforms as transforms\n",
        "\n",
        "import os\n",
        "# import argparse\n",
        "\n",
        "# from models import *\n",
        "# from utils import progress_bar\n",
        "import time\n",
        "cur_time = time.time()\n",
        "str_time = str(int(cur_time)) # used to rename file"
      ]
    },
    {
      "cell_type": "markdown",
      "metadata": {
        "id": "uOQao9w4Vj8-"
      },
      "source": [
        "## Preparing Data<sup>[[1]](https://github.com/kuangliu/pytorch-cifar/blob/master/main.py)\n",
        "\n"
      ]
    },
    {
      "cell_type": "code",
      "execution_count": 3,
      "metadata": {
        "colab": {
          "base_uri": "https://localhost:8080/"
        },
        "id": "HiQOlhgGV4dM",
        "outputId": "0a80a028-03a0-473b-f1d4-346d247b8d58"
      },
      "outputs": [
        {
          "output_type": "stream",
          "name": "stdout",
          "text": [
            "==> Preparing data..\n",
            "Downloading https://www.cs.toronto.edu/~kriz/cifar-10-python.tar.gz to ./data/cifar-10-python.tar.gz\n"
          ]
        },
        {
          "output_type": "stream",
          "name": "stderr",
          "text": [
            "100%|██████████| 170498071/170498071 [00:09<00:00, 17727102.83it/s]\n"
          ]
        },
        {
          "output_type": "stream",
          "name": "stdout",
          "text": [
            "Extracting ./data/cifar-10-python.tar.gz to ./data\n",
            "Files already downloaded and verified\n"
          ]
        }
      ],
      "source": [
        "# Data\n",
        "print('==> Preparing data..')\n",
        "transform_train = transforms.Compose([\n",
        "    transforms.RandomCrop(32, padding=4),\n",
        "    transforms.RandomHorizontalFlip(),\n",
        "    transforms.ToTensor(),\n",
        "    transforms.Normalize((0.4914, 0.4822, 0.4465), (0.2023, 0.1994, 0.2010)),\n",
        "])\n",
        "\n",
        "transform_test = transforms.Compose([\n",
        "    transforms.ToTensor(),\n",
        "    transforms.Normalize((0.4914, 0.4822, 0.4465), (0.2023, 0.1994, 0.2010)),\n",
        "])\n",
        "\n",
        "trainset = torchvision.datasets.CIFAR10(\n",
        "    root='./data', train=True, download=True, transform=transform_train)\n",
        "trainloader = torch.utils.data.DataLoader(\n",
        "    trainset, batch_size=128, shuffle=True, num_workers=2)\n",
        "\n",
        "testset = torchvision.datasets.CIFAR10(\n",
        "    root='./data', train=False, download=True, transform=transform_test)\n",
        "testloader = torch.utils.data.DataLoader(\n",
        "    testset, batch_size=100, shuffle=False, num_workers=2)\n",
        "\n",
        "classes = ('plane', 'car', 'bird', 'cat', 'deer',\n",
        "           'dog', 'frog', 'horse', 'ship', 'truck')"
      ]
    },
    {
      "cell_type": "markdown",
      "metadata": {
        "id": "BPu0DkX0Rs2q"
      },
      "source": [
        "## Build Model<sup>[[1]](https://github.com/kuangliu/pytorch-cifar/blob/master/main.py)\n"
      ]
    },
    {
      "cell_type": "code",
      "execution_count": 4,
      "metadata": {
        "colab": {
          "base_uri": "https://localhost:8080/"
        },
        "id": "faWqWWnNSk_E",
        "outputId": "4890731c-b82c-42de-f4f5-49a57d6f81da"
      },
      "outputs": [
        {
          "output_type": "stream",
          "name": "stdout",
          "text": [
            "==> Building model..\n"
          ]
        }
      ],
      "source": [
        "# Model\n",
        "print('==> Building model..')\n",
        "# net = VGG('VGG19')\n",
        "# net = ResNet18()\n",
        "net = ResNet(BasicBlock, [1, 1, 1, 1])\n",
        "# net = PreActResNet18()\n",
        "# net = GoogLeNet()\n",
        "# net = DenseNet121()\n",
        "# net = ResNeXt29_2x64d()\n",
        "# net = MobileNet()\n",
        "# net = MobileNetV2()\n",
        "# net = DPN92()\n",
        "# net = ShuffleNetG2()\n",
        "# net = SENet18()\n",
        "# net = ShuffleNetV2(1)\n",
        "# net = EfficientNetB0()\n",
        "# net = RegNetX_200MF()\n",
        "# net = SimpleDLA()\n",
        "device = 'cuda' if torch.cuda.is_available() else 'cpu'\n",
        "net = net.to(device)\n",
        "if device == 'cuda':\n",
        "    net = torch.nn.DataParallel(net)\n",
        "    cudnn.benchmark = True\n",
        "\n",
        "'''if args.resume:\n",
        "    # Load checkpoint.\n",
        "    print('==> Resuming from checkpoint..')\n",
        "    assert os.path.isdir('checkpoint'), 'Error: no checkpoint directory found!'\n",
        "    checkpoint = torch.load('./checkpoint/ckpt.pth')\n",
        "    net.load_state_dict(checkpoint['net'])\n",
        "    best_acc = checkpoint['acc']\n",
        "    start_epoch = checkpoint['epoch']'''\n",
        "\n",
        "criterion = nn.CrossEntropyLoss()\n",
        "'''optimizer = optim.SGD(net.parameters(), lr=args.lr,\n",
        "                      momentum=0.9, weight_decay=5e-4)'''\n",
        "optimizer = optim.SGD(net.parameters(), lr=0.01,\n",
        "                      momentum=0.9, weight_decay=5e-4)\n",
        "scheduler = torch.optim.lr_scheduler.CosineAnnealingLR(optimizer, T_max=200)"
      ]
    },
    {
      "cell_type": "markdown",
      "metadata": {
        "id": "LYw05AKJWTPR"
      },
      "source": [
        "## Define Train Function<sup>[[1]](https://github.com/kuangliu/pytorch-cifar/blob/master/main.py)"
      ]
    },
    {
      "cell_type": "code",
      "execution_count": 5,
      "metadata": {
        "id": "DSIbyL9jQUh6"
      },
      "outputs": [],
      "source": [
        "# Training\n",
        "def train(epoch):\n",
        "    # print('\\nEpoch: %d' % epoch)\n",
        "    net.train()\n",
        "    train_loss = 0\n",
        "    correct = 0\n",
        "    total = 0\n",
        "    for batch_idx, (inputs, targets) in enumerate(trainloader):\n",
        "        inputs, targets = inputs.to(device), targets.to(device)\n",
        "        optimizer.zero_grad()\n",
        "        outputs = net(inputs)\n",
        "        loss = criterion(outputs, targets)\n",
        "        loss.backward()\n",
        "        optimizer.step()\n",
        "\n",
        "        train_loss += loss.item()\n",
        "        _, predicted = outputs.max(1)\n",
        "        total += targets.size(0)\n",
        "        correct += predicted.eq(targets).sum().item()\n",
        "\n",
        "        '''progress_bar(batch_idx, len(trainloader), 'Loss: %.3f | Acc: %.3f%% (%d/%d)' \n",
        "                     % (train_loss/(batch_idx+1), 100.*correct/total, correct, total))'''\n",
        "    aver_train_loss = float(train_loss/(batch_idx+1))\n",
        "    aver_train_accuracy = float(correct/total)\n",
        "    return aver_train_loss, aver_train_accuracy"
      ]
    },
    {
      "cell_type": "markdown",
      "metadata": {
        "id": "f9241oeMWdoJ"
      },
      "source": [
        "## Define Test Function<sup>[[1]](https://github.com/kuangliu/pytorch-cifar/blob/master/main.py)"
      ]
    },
    {
      "cell_type": "code",
      "execution_count": 6,
      "metadata": {
        "id": "i7Vj4fVGRQDY"
      },
      "outputs": [],
      "source": [
        "best_acc = 0  # best test accuracy\n",
        "def test(epoch):\n",
        "    global best_acc\n",
        "    net.eval()\n",
        "    test_loss = 0\n",
        "    correct = 0\n",
        "    total = 0\n",
        "    with torch.no_grad():\n",
        "        for batch_idx, (inputs, targets) in enumerate(testloader):\n",
        "            inputs, targets = inputs.to(device), targets.to(device)\n",
        "            outputs = net(inputs)\n",
        "            loss = criterion(outputs, targets)\n",
        "\n",
        "            test_loss += loss.item()\n",
        "            _, predicted = outputs.max(1)\n",
        "            total += targets.size(0)\n",
        "            correct += predicted.eq(targets).sum().item()\n",
        "\n",
        "            '''progress_bar(batch_idx, len(testloader), 'Loss: %.3f | Acc: %.3f%% (%d/%d)' \n",
        "                         % (test_loss/(batch_idx+1), 100.*correct/total, correct, total))'''\n",
        "\n",
        "    # Save checkpoint.\n",
        "    acc = 100.*correct/total\n",
        "    if acc > best_acc:\n",
        "        # print('Saving..')\n",
        "        state = {'net': net.state_dict(), 'acc': acc, 'epoch': epoch,}\n",
        "        if not os.path.isdir('checkpoint'):\n",
        "            os.mkdir('checkpoint')\n",
        "        torch.save(state, './checkpoint/ckpt_' + str_time + '.pth')\n",
        "        best_acc = acc\n",
        "\n",
        "    aver_test_loss = float(test_loss / (batch_idx + 1))\n",
        "    aver_test_accuracy = float(correct / total)\n",
        "    return aver_test_loss, aver_test_accuracy"
      ]
    },
    {
      "cell_type": "markdown",
      "metadata": {
        "id": "trGTzOHnWqeD"
      },
      "source": [
        "## Training and Test"
      ]
    },
    {
      "cell_type": "code",
      "execution_count": 7,
      "metadata": {
        "colab": {
          "base_uri": "https://localhost:8080/"
        },
        "id": "4DsZfMvIWzvB",
        "outputId": "4dc4cae0-eab4-4372-a41f-dbfb4f787bbb"
      },
      "outputs": [
        {
          "output_type": "stream",
          "name": "stdout",
          "text": [
            "Epoch 10/200, Train Loss 0.407, Train Acc 0.859, Test Loss 0.510, Test Acc 0.830\n",
            "Epoch 20/200, Train Loss 0.248, Train Acc 0.914, Test Loss 0.417, Test Acc 0.868\n",
            "Epoch 30/200, Train Loss 0.162, Train Acc 0.943, Test Loss 0.386, Test Acc 0.884\n",
            "Epoch 40/200, Train Loss 0.113, Train Acc 0.961, Test Loss 0.351, Test Acc 0.897\n",
            "Epoch 50/200, Train Loss 0.084, Train Acc 0.972, Test Loss 0.370, Test Acc 0.899\n",
            "Epoch 60/200, Train Loss 0.065, Train Acc 0.979, Test Loss 0.372, Test Acc 0.901\n",
            "Epoch 70/200, Train Loss 0.048, Train Acc 0.985, Test Loss 0.342, Test Acc 0.908\n",
            "Epoch 80/200, Train Loss 0.040, Train Acc 0.988, Test Loss 0.407, Test Acc 0.900\n",
            "Epoch 90/200, Train Loss 0.029, Train Acc 0.992, Test Loss 0.348, Test Acc 0.910\n",
            "Epoch 100/200, Train Loss 0.021, Train Acc 0.995, Test Loss 0.324, Test Acc 0.916\n",
            "Epoch 110/200, Train Loss 0.011, Train Acc 0.998, Test Loss 0.297, Test Acc 0.923\n",
            "Epoch 120/200, Train Loss 0.005, Train Acc 1.000, Test Loss 0.276, Test Acc 0.927\n",
            "Epoch 130/200, Train Loss 0.003, Train Acc 1.000, Test Loss 0.256, Test Acc 0.931\n",
            "Epoch 140/200, Train Loss 0.003, Train Acc 1.000, Test Loss 0.253, Test Acc 0.932\n",
            "Epoch 150/200, Train Loss 0.003, Train Acc 1.000, Test Loss 0.250, Test Acc 0.933\n",
            "Epoch 160/200, Train Loss 0.003, Train Acc 1.000, Test Loss 0.248, Test Acc 0.932\n",
            "Epoch 170/200, Train Loss 0.003, Train Acc 1.000, Test Loss 0.244, Test Acc 0.933\n",
            "Epoch 180/200, Train Loss 0.003, Train Acc 1.000, Test Loss 0.242, Test Acc 0.933\n",
            "Epoch 190/200, Train Loss 0.003, Train Acc 1.000, Test Loss 0.242, Test Acc 0.932\n",
            "Epoch 200/200, Train Loss 0.003, Train Acc 1.000, Test Loss 0.241, Test Acc 0.934\n",
            "Best Acc: 93.45%\n"
          ]
        }
      ],
      "source": [
        "import json\n",
        "import collections\n",
        "\n",
        "EPOCH = 200\n",
        "start_epoch = 0 # start from epoch 0 or last checkpoint epoch\n",
        "JSON_FILE = './epoch_data_Resnet10_cos_steplr_'+ str_time +'.json'\n",
        "epoch_data = collections.OrderedDict()\n",
        "for epoch in range(start_epoch, start_epoch+200):\n",
        "    train_loss, train_accuracy = train(epoch)\n",
        "    epoch_data[epoch] = {'train_loss': train_loss, 'train_accuracy': train_accuracy}\n",
        "    test_loss, test_accuracy = test(epoch)\n",
        "    epoch_data[epoch]['test_loss'], epoch_data[epoch]['test_accuracy'] = test_loss, test_accuracy\n",
        "    scheduler.step()\n",
        "    if epoch % 10 == 9:\n",
        "      print(f'Epoch {epoch+1}/{EPOCH}, Train Loss {train_loss:.3f}, Train Acc {train_accuracy:.3f}, Test Loss {test_loss:.3f}, Test Acc {test_accuracy:.3f}')\n",
        "\n",
        "epoch_data_json = json.dumps(epoch_data)\n",
        "json_file = open(JSON_FILE, 'w')\n",
        "json_file.write(epoch_data_json)\n",
        "json_file.close()\n",
        "print(f'Best Acc: {best_acc}%')"
      ]
    },
    {
      "cell_type": "markdown",
      "metadata": {
        "id": "p_JQGc5NlEri"
      },
      "source": [
        "## Data Analysis<sup>"
      ]
    },
    {
      "cell_type": "code",
      "execution_count": 8,
      "metadata": {
        "id": "P2SGAGX0lT0-",
        "colab": {
          "base_uri": "https://localhost:8080/",
          "height": 452
        },
        "outputId": "c6a78d83-2c6a-4b6e-98b1-e73d8f5f4b2f"
      },
      "outputs": [
        {
          "output_type": "display_data",
          "data": {
            "text/plain": [
              "<Figure size 640x480 with 1 Axes>"
            ],
            "image/png": "[encoded data removed]"
          },
          "metadata": {}
        }
      ],
      "source": [
        "import matplotlib.pyplot as plt\n",
        "\n",
        "f = open(JSON_FILE)\n",
        "data1 = json.load(f)\n",
        "f.close()\n",
        "\n",
        "FEATURE = 'test_accuracy'\n",
        "\n",
        "x = [i for i in range(EPOCH)]\n",
        "feature1 = [data1[str(k)][FEATURE] for k in range(EPOCH)]\n",
        "\n",
        "plt.plot(x, feature1, label=FEATURE)\n",
        "plt.legend()\n",
        "plt.ylabel('accuracy')\n",
        "plt.xlabel('epoch')\n",
        "plt.grid()\n",
        "plt.show()\n"
      ]
    }
  ],
  "metadata": {
    "accelerator": "GPU",
    "colab": {
      "provenance": []
    },
    "gpuClass": "standard",
    "kernelspec": {
      "display_name": "Python 3",
      "name": "python3"
    },
    "language_info": {
      "name": "python"
    }
  },
  "nbformat": 4,
  "nbformat_minor": 0
}