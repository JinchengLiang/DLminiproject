{
  "cells": [
    {
      "cell_type": "markdown",
      "metadata": {
        "id": "8Wq8bSpJESXs"
      },
      "source": [
        "# ResNet26 ($B = [4, 5, 3]$) Performance\n",
        "\n",
        "Change EPOCH from 200 to 400.\n",
        "\n",
        "Upload [resnet3l.py](https://github.com/JinchengLiang/DLminiproject/blob/main/resnet3l.py) frist.\n"
      ]
    },
    {
      "cell_type": "code",
      "execution_count": 2,
      "metadata": {
        "id": "bAbd9yDjB-e2"
      },
      "outputs": [],
      "source": [
        "from resnet3l import *"
      ]
    },
    {
      "cell_type": "code",
      "execution_count": 3,
      "metadata": {
        "id": "mNbSQxLQU3Wg"
      },
      "outputs": [],
      "source": [
        "import torch\n",
        "import torch.nn as nn\n",
        "import torch.optim as optim\n",
        "import torch.nn.functional as F\n",
        "import torch.backends.cudnn as cudnn\n",
        "\n",
        "import torchvision\n",
        "import torchvision.transforms as transforms\n",
        "\n",
        "import os\n",
        "# import argparse\n",
        "\n",
        "# from models import *\n",
        "# from utils import progress_bar\n",
        "import time\n",
        "cur_time = time.time()\n",
        "str_time = str(int(cur_time)) # used to rename file"
      ]
    },
    {
      "cell_type": "markdown",
      "metadata": {
        "id": "uOQao9w4Vj8-"
      },
      "source": [
        "## Preparing Data<sup>[[1]](https://github.com/kuangliu/pytorch-cifar/blob/master/main.py)\n",
        "\n"
      ]
    },
    {
      "cell_type": "code",
      "execution_count": 4,
      "metadata": {
        "colab": {
          "base_uri": "https://localhost:8080/"
        },
        "id": "HiQOlhgGV4dM",
        "outputId": "eb62b9c1-5af8-4b5e-e857-a02d5fbf77b3"
      },
      "outputs": [
        {
          "output_type": "stream",
          "name": "stdout",
          "text": [
            "==> Preparing data..\n",
            "Downloading https://www.cs.toronto.edu/~kriz/cifar-10-python.tar.gz to ./data/cifar-10-python.tar.gz\n"
          ]
        },
        {
          "output_type": "stream",
          "name": "stderr",
          "text": [
            "100%|██████████| 170498071/170498071 [00:13<00:00, 12465881.56it/s]\n"
          ]
        },
        {
          "output_type": "stream",
          "name": "stdout",
          "text": [
            "Extracting ./data/cifar-10-python.tar.gz to ./data\n",
            "Files already downloaded and verified\n"
          ]
        }
      ],
      "source": [
        "# Data\n",
        "print('==> Preparing data..')\n",
        "transform_train = transforms.Compose([\n",
        "    transforms.RandomCrop(32, padding=4),\n",
        "    transforms.RandomHorizontalFlip(),\n",
        "    transforms.ToTensor(),\n",
        "    transforms.Normalize((0.4914, 0.4822, 0.4465), (0.2023, 0.1994, 0.2010)),\n",
        "])\n",
        "\n",
        "transform_test = transforms.Compose([\n",
        "    transforms.ToTensor(),\n",
        "    transforms.Normalize((0.4914, 0.4822, 0.4465), (0.2023, 0.1994, 0.2010)),\n",
        "])\n",
        "\n",
        "trainset = torchvision.datasets.CIFAR10(\n",
        "    root='./data', train=True, download=True, transform=transform_train)\n",
        "trainloader = torch.utils.data.DataLoader(\n",
        "    trainset, batch_size=128, shuffle=True, num_workers=2)\n",
        "\n",
        "testset = torchvision.datasets.CIFAR10(\n",
        "    root='./data', train=False, download=True, transform=transform_test)\n",
        "testloader = torch.utils.data.DataLoader(\n",
        "    testset, batch_size=100, shuffle=False, num_workers=2)\n",
        "\n",
        "classes = ('plane', 'car', 'bird', 'cat', 'deer',\n",
        "           'dog', 'frog', 'horse', 'ship', 'truck')"
      ]
    },
    {
      "cell_type": "markdown",
      "metadata": {
        "id": "BPu0DkX0Rs2q"
      },
      "source": [
        "## Build Model<sup>[[1]](https://github.com/kuangliu/pytorch-cifar/blob/master/main.py)\n"
      ]
    },
    {
      "cell_type": "code",
      "execution_count": 5,
      "metadata": {
        "colab": {
          "base_uri": "https://localhost:8080/"
        },
        "id": "faWqWWnNSk_E",
        "outputId": "021d2038-ae46-475b-827b-8490e9b63ee4"
      },
      "outputs": [
        {
          "output_type": "stream",
          "name": "stdout",
          "text": [
            "==> Building model..\n"
          ]
        }
      ],
      "source": [
        "# Model\n",
        "print('==> Building model..')\n",
        "net = ResNet(BasicBlock, [4, 5, 3])\n",
        "device = 'cuda' if torch.cuda.is_available() else 'cpu'\n",
        "net = net.to(device)\n",
        "if device == 'cuda':\n",
        "    net = torch.nn.DataParallel(net)\n",
        "    cudnn.benchmark = True\n",
        "\n",
        "'''if args.resume:\n",
        "    # Load checkpoint.\n",
        "    print('==> Resuming from checkpoint..')\n",
        "    assert os.path.isdir('checkpoint'), 'Error: no checkpoint directory found!'\n",
        "    checkpoint = torch.load('./checkpoint/ckpt.pth')\n",
        "    net.load_state_dict(checkpoint['net'])\n",
        "    best_acc = checkpoint['acc']\n",
        "    start_epoch = checkpoint['epoch']'''\n",
        "\n",
        "criterion = nn.CrossEntropyLoss()\n",
        "'''optimizer = optim.SGD(net.parameters(), lr=args.lr,\n",
        "                      momentum=0.9, weight_decay=5e-4)'''\n",
        "optimizer = optim.SGD(net.parameters(), lr=0.1,\n",
        "                      momentum=0.9, weight_decay=5e-4)\n",
        "scheduler = torch.optim.lr_scheduler.CosineAnnealingLR(optimizer, T_max=400)"
      ]
    },
    {
      "cell_type": "markdown",
      "metadata": {
        "id": "LYw05AKJWTPR"
      },
      "source": [
        "## Define Train Function<sup>[[1]](https://github.com/kuangliu/pytorch-cifar/blob/master/main.py)"
      ]
    },
    {
      "cell_type": "code",
      "execution_count": 6,
      "metadata": {
        "id": "DSIbyL9jQUh6"
      },
      "outputs": [],
      "source": [
        "# Training\n",
        "def train(epoch):\n",
        "    # print('\\nEpoch: %d' % epoch)\n",
        "    net.train()\n",
        "    train_loss = 0\n",
        "    correct = 0\n",
        "    total = 0\n",
        "    for batch_idx, (inputs, targets) in enumerate(trainloader):\n",
        "        inputs, targets = inputs.to(device), targets.to(device)\n",
        "        optimizer.zero_grad()\n",
        "        outputs = net(inputs)\n",
        "        loss = criterion(outputs, targets)\n",
        "        loss.backward()\n",
        "        optimizer.step()\n",
        "\n",
        "        train_loss += loss.item()\n",
        "        _, predicted = outputs.max(1)\n",
        "        total += targets.size(0)\n",
        "        correct += predicted.eq(targets).sum().item()\n",
        "\n",
        "        '''progress_bar(batch_idx, len(trainloader), 'Loss: %.3f | Acc: %.3f%% (%d/%d)' \n",
        "                     % (train_loss/(batch_idx+1), 100.*correct/total, correct, total))'''\n",
        "    aver_train_loss = float(train_loss/(batch_idx+1))\n",
        "    aver_train_accuracy = float(correct/total)\n",
        "    return aver_train_loss, aver_train_accuracy"
      ]
    },
    {
      "cell_type": "markdown",
      "metadata": {
        "id": "f9241oeMWdoJ"
      },
      "source": [
        "## Define Test Function<sup>[[1]](https://github.com/kuangliu/pytorch-cifar/blob/master/main.py)"
      ]
    },
    {
      "cell_type": "code",
      "execution_count": 7,
      "metadata": {
        "id": "i7Vj4fVGRQDY"
      },
      "outputs": [],
      "source": [
        "best_acc = 0  # best test accuracy\n",
        "def test(epoch):\n",
        "    global best_acc\n",
        "    net.eval()\n",
        "    test_loss = 0\n",
        "    correct = 0\n",
        "    total = 0\n",
        "    with torch.no_grad():\n",
        "        for batch_idx, (inputs, targets) in enumerate(testloader):\n",
        "            inputs, targets = inputs.to(device), targets.to(device)\n",
        "            outputs = net(inputs)\n",
        "            loss = criterion(outputs, targets)\n",
        "\n",
        "            test_loss += loss.item()\n",
        "            _, predicted = outputs.max(1)\n",
        "            total += targets.size(0)\n",
        "            correct += predicted.eq(targets).sum().item()\n",
        "\n",
        "            '''progress_bar(batch_idx, len(testloader), 'Loss: %.3f | Acc: %.3f%% (%d/%d)' \n",
        "                         % (test_loss/(batch_idx+1), 100.*correct/total, correct, total))'''\n",
        "\n",
        "    # Save checkpoint.\n",
        "    acc = 100.*correct/total\n",
        "    if acc > best_acc:\n",
        "        # print('Saving..')\n",
        "        state = {'net': net.state_dict(), 'acc': acc, 'epoch': epoch,}\n",
        "        if not os.path.isdir('checkpoint'):\n",
        "            os.mkdir('checkpoint')\n",
        "        torch.save(state, './checkpoint/ckpt_' + str_time + '.pth')\n",
        "        best_acc = acc\n",
        "\n",
        "    aver_test_loss = float(test_loss / (batch_idx + 1))\n",
        "    aver_test_accuracy = float(correct / total)\n",
        "    return aver_test_loss, aver_test_accuracy"
      ]
    },
    {
      "cell_type": "markdown",
      "metadata": {
        "id": "trGTzOHnWqeD"
      },
      "source": [
        "## Training and Test"
      ]
    },
    {
      "cell_type": "code",
      "execution_count": 8,
      "metadata": {
        "colab": {
          "base_uri": "https://localhost:8080/"
        },
        "id": "4DsZfMvIWzvB",
        "outputId": "a82f5787-4a67-4c0e-f2c7-9b5ff836bee0"
      },
      "outputs": [
        {
          "output_type": "stream",
          "name": "stdout",
          "text": [
            "Epoch 10/400, Train Loss 0.551, Train Acc 0.810, Test Loss 0.626, Test Acc 0.789\n",
            "Epoch 20/400, Train Loss 0.428, Train Acc 0.853, Test Loss 0.527, Test Acc 0.824\n",
            "Epoch 30/400, Train Loss 0.385, Train Acc 0.869, Test Loss 0.585, Test Acc 0.815\n",
            "Epoch 40/400, Train Loss 0.360, Train Acc 0.879, Test Loss 0.486, Test Acc 0.842\n",
            "Epoch 50/400, Train Loss 0.347, Train Acc 0.882, Test Loss 0.522, Test Acc 0.827\n",
            "Epoch 60/400, Train Loss 0.343, Train Acc 0.883, Test Loss 0.598, Test Acc 0.806\n",
            "Epoch 70/400, Train Loss 0.341, Train Acc 0.884, Test Loss 0.444, Test Acc 0.851\n",
            "Epoch 80/400, Train Loss 0.327, Train Acc 0.890, Test Loss 0.463, Test Acc 0.849\n",
            "Epoch 90/400, Train Loss 0.319, Train Acc 0.892, Test Loss 0.442, Test Acc 0.857\n",
            "Epoch 100/400, Train Loss 0.307, Train Acc 0.896, Test Loss 0.693, Test Acc 0.791\n",
            "Epoch 110/400, Train Loss 0.302, Train Acc 0.897, Test Loss 0.657, Test Acc 0.791\n",
            "Epoch 120/400, Train Loss 0.291, Train Acc 0.901, Test Loss 0.556, Test Acc 0.814\n",
            "Epoch 130/400, Train Loss 0.283, Train Acc 0.904, Test Loss 0.430, Test Acc 0.864\n",
            "Epoch 140/400, Train Loss 0.275, Train Acc 0.907, Test Loss 0.417, Test Acc 0.863\n",
            "Epoch 150/400, Train Loss 0.261, Train Acc 0.911, Test Loss 0.394, Test Acc 0.870\n",
            "Epoch 160/400, Train Loss 0.248, Train Acc 0.915, Test Loss 0.444, Test Acc 0.853\n",
            "Epoch 170/400, Train Loss 0.241, Train Acc 0.918, Test Loss 0.345, Test Acc 0.890\n",
            "Epoch 180/400, Train Loss 0.224, Train Acc 0.924, Test Loss 0.360, Test Acc 0.883\n",
            "Epoch 190/400, Train Loss 0.217, Train Acc 0.926, Test Loss 0.345, Test Acc 0.886\n",
            "Epoch 200/400, Train Loss 0.203, Train Acc 0.929, Test Loss 0.337, Test Acc 0.892\n",
            "Epoch 210/400, Train Loss 0.191, Train Acc 0.935, Test Loss 0.426, Test Acc 0.869\n",
            "Epoch 220/400, Train Loss 0.175, Train Acc 0.940, Test Loss 0.336, Test Acc 0.893\n",
            "Epoch 230/400, Train Loss 0.164, Train Acc 0.943, Test Loss 0.448, Test Acc 0.865\n",
            "Epoch 240/400, Train Loss 0.150, Train Acc 0.948, Test Loss 0.277, Test Acc 0.913\n",
            "Epoch 250/400, Train Loss 0.131, Train Acc 0.956, Test Loss 0.317, Test Acc 0.907\n",
            "Epoch 260/400, Train Loss 0.122, Train Acc 0.958, Test Loss 0.248, Test Acc 0.922\n",
            "Epoch 270/400, Train Loss 0.104, Train Acc 0.966, Test Loss 0.246, Test Acc 0.927\n",
            "Epoch 280/400, Train Loss 0.092, Train Acc 0.969, Test Loss 0.321, Test Acc 0.906\n",
            "Epoch 290/400, Train Loss 0.074, Train Acc 0.975, Test Loss 0.254, Test Acc 0.924\n",
            "Epoch 300/400, Train Loss 0.053, Train Acc 0.983, Test Loss 0.285, Test Acc 0.919\n",
            "Epoch 310/400, Train Loss 0.043, Train Acc 0.986, Test Loss 0.251, Test Acc 0.930\n",
            "Epoch 320/400, Train Loss 0.030, Train Acc 0.991, Test Loss 0.233, Test Acc 0.934\n",
            "Epoch 330/400, Train Loss 0.021, Train Acc 0.994, Test Loss 0.220, Test Acc 0.940\n",
            "Epoch 340/400, Train Loss 0.007, Train Acc 0.998, Test Loss 0.218, Test Acc 0.946\n",
            "Epoch 350/400, Train Loss 0.003, Train Acc 1.000, Test Loss 0.192, Test Acc 0.953\n",
            "Epoch 360/400, Train Loss 0.002, Train Acc 1.000, Test Loss 0.177, Test Acc 0.956\n",
            "Epoch 370/400, Train Loss 0.002, Train Acc 1.000, Test Loss 0.177, Test Acc 0.956\n",
            "Epoch 380/400, Train Loss 0.002, Train Acc 1.000, Test Loss 0.172, Test Acc 0.956\n",
            "Epoch 390/400, Train Loss 0.002, Train Acc 1.000, Test Loss 0.173, Test Acc 0.957\n",
            "Epoch 400/400, Train Loss 0.001, Train Acc 1.000, Test Loss 0.173, Test Acc 0.957\n",
            "Best Acc: 95.75%\n"
          ]
        }
      ],
      "source": [
        "import json\n",
        "import collections\n",
        "\n",
        "EPOCH = 400\n",
        "start_epoch = 0 # start from epoch 0 or last checkpoint epoch\n",
        "JSON_FILE = './epoch_data_Resnet10_cos_steplr_'+ str_time +'.json'\n",
        "epoch_data = collections.OrderedDict()\n",
        "for epoch in range(start_epoch, start_epoch+EPOCH):\n",
        "    train_loss, train_accuracy = train(epoch)\n",
        "    epoch_data[epoch] = {'train_loss': train_loss, 'train_accuracy': train_accuracy}\n",
        "    test_loss, test_accuracy = test(epoch)\n",
        "    epoch_data[epoch]['test_loss'], epoch_data[epoch]['test_accuracy'] = test_loss, test_accuracy\n",
        "    scheduler.step()\n",
        "    if epoch % 10 == 9:\n",
        "      print(f'Epoch {epoch+1}/{EPOCH}, Train Loss {train_loss:.3f}, Train Acc {train_accuracy:.3f}, Test Loss {test_loss:.3f}, Test Acc {test_accuracy:.3f}')\n",
        "\n",
        "epoch_data_json = json.dumps(epoch_data)\n",
        "json_file = open(JSON_FILE, 'w')\n",
        "json_file.write(epoch_data_json)\n",
        "json_file.close()\n",
        "print(f'Best Acc: {best_acc}%')"
      ]
    },
    {
      "cell_type": "markdown",
      "metadata": {
        "id": "p_JQGc5NlEri"
      },
      "source": [
        "## Data Analysis<sup>"
      ]
    },
    {
      "cell_type": "code",
      "execution_count": 9,
      "metadata": {
        "colab": {
          "base_uri": "https://localhost:8080/",
          "height": 449
        },
        "id": "P2SGAGX0lT0-",
        "outputId": "6ca73a18-2bae-4fc2-8df3-d20086202431"
      },
      "outputs": [
        {
          "output_type": "display_data",
          "data": {
            "text/plain": [
              "<Figure size 640x480 with 1 Axes>"
            ],
            "image/png": "[encoded data removed]"
          },
          "metadata": {}
        }
      ],
      "source": [
        "import matplotlib.pyplot as plt\n",
        "\n",
        "f = open(JSON_FILE)\n",
        "data1 = json.load(f)\n",
        "f.close()\n",
        "\n",
        "FEATURE = 'test_accuracy'\n",
        "\n",
        "x = [i for i in range(EPOCH)]\n",
        "feature1 = [data1[str(k)][FEATURE] for k in range(EPOCH)]\n",
        "\n",
        "plt.plot(x, feature1, label=FEATURE)\n",
        "plt.legend()\n",
        "plt.ylabel('accuracy')\n",
        "plt.xlabel('epoch')\n",
        "plt.grid()\n",
        "plt.show()\n"
      ]
    }
  ],
  "metadata": {
    "accelerator": "GPU",
    "colab": {
      "provenance": []
    },
    "gpuClass": "standard",
    "kernelspec": {
      "display_name": "Python 3",
      "name": "python3"
    },
    "language_info": {
      "name": "python"
    }
  },
  "nbformat": 4,
  "nbformat_minor": 0
}