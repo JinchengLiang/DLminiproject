{
  "nbformat": 4,
  "nbformat_minor": 0,
  "metadata": {
    "colab": {
      "provenance": [],
      "machine_shape": "hm"
    },
    "kernelspec": {
      "name": "python3",
      "display_name": "Python 3"
    },
    "language_info": {
      "name": "python"
    },
    "gpuClass": "standard",
    "accelerator": "GPU"
  },
  "cells": [
    {
      "cell_type": "markdown",
      "source": [
        "# Resnet with 3 residual layers<sup>[[1]](https://github.com/kuangliu/pytorch-cifar/blob/master/models/resnet.py)\n",
        "\n",
        "Change $C_i$: # channels in Residual Layer $i$"
      ],
      "metadata": {
        "id": "n04x-gENLza-"
      }
    },
    {
      "cell_type": "markdown",
      "source": [
        "## Build Model"
      ],
      "metadata": {
        "id": "6sSqeuD9wRLz"
      }
    },
    {
      "cell_type": "code",
      "source": [
        "import torch\n",
        "import torch.nn as nn\n",
        "import torch.optim as optim\n",
        "import torch.nn.functional as F\n",
        "import torch.backends.cudnn as cudnn\n",
        "\n",
        "import torchvision\n",
        "import torchvision.transforms as transforms\n",
        "\n",
        "import os\n",
        "# import argparse\n",
        "\n",
        "# from models import *\n",
        "# from utils import progress_bar\n",
        "import time\n",
        "cur_time = time.time()\n",
        "str_time = str(int(cur_time)) # used to rename file"
      ],
      "metadata": {
        "id": "cfUepHzbCmbf"
      },
      "execution_count": 1,
      "outputs": []
    },
    {
      "cell_type": "markdown",
      "source": [
        "### ResNet<sup>[[1]](https://github.com/kuangliu/pytorch-cifar/blob/master/models/resnet.py)\n",
        "\n",
        "$C_i$: # channels in Residual Layer $i$\n",
        "\n",
        "$C = [64, 128, 192]$"
      ],
      "metadata": {
        "id": "Q-MSUQUywVWu"
      }
    },
    {
      "cell_type": "code",
      "execution_count": 2,
      "metadata": {
        "id": "VWr7m3IeEPhc",
        "colab": {
          "base_uri": "https://localhost:8080/"
        },
        "outputId": "1599fbd1-cdc2-4f63-b470-74de2bd9b7bb"
      },
      "outputs": [
        {
          "output_type": "stream",
          "name": "stdout",
          "text": [
            "torch.Size([1, 10])\n"
          ]
        }
      ],
      "source": [
        "'''ResNet in PyTorch.\n",
        "\n",
        "For Pre-activation ResNet, see 'preact_resnet.py'.\n",
        "\n",
        "Reference:\n",
        "[1] Kaiming He, Xiangyu Zhang, Shaoqing Ren, Jian Sun\n",
        "    Deep Residual Learning for Image Recognition. arXiv:1512.03385\n",
        "'''\n",
        "import torch\n",
        "import torch.nn as nn\n",
        "import torch.nn.functional as F\n",
        "\n",
        "\n",
        "class BasicBlock(nn.Module):\n",
        "    expansion = 1\n",
        "\n",
        "    def __init__(self, in_planes, planes, stride=1):\n",
        "        super(BasicBlock, self).__init__()\n",
        "        self.conv1 = nn.Conv2d(\n",
        "            in_planes, planes, kernel_size=3, stride=stride, padding=1, bias=False)\n",
        "        self.bn1 = nn.BatchNorm2d(planes)\n",
        "        self.conv2 = nn.Conv2d(planes, planes, kernel_size=3,\n",
        "                               stride=1, padding=1, bias=False)\n",
        "        self.bn2 = nn.BatchNorm2d(planes)\n",
        "\n",
        "        self.shortcut = nn.Sequential()\n",
        "        if stride != 1 or in_planes != self.expansion*planes:\n",
        "            self.shortcut = nn.Sequential(\n",
        "                nn.Conv2d(in_planes, self.expansion*planes,\n",
        "                          kernel_size=1, stride=stride, bias=False),\n",
        "                nn.BatchNorm2d(self.expansion*planes)\n",
        "            )\n",
        "\n",
        "    def forward(self, x):\n",
        "        out = F.relu(self.bn1(self.conv1(x)))\n",
        "        out = self.bn2(self.conv2(out))\n",
        "        out += self.shortcut(x)\n",
        "        out = F.relu(out)\n",
        "        return out\n",
        "\n",
        "\n",
        "class Bottleneck(nn.Module):\n",
        "    expansion = 4\n",
        "\n",
        "    def __init__(self, in_planes, planes, stride=1):\n",
        "        super(Bottleneck, self).__init__()\n",
        "        self.conv1 = nn.Conv2d(in_planes, planes, kernel_size=1, bias=False)\n",
        "        self.bn1 = nn.BatchNorm2d(planes)\n",
        "        self.conv2 = nn.Conv2d(planes, planes, kernel_size=3,\n",
        "                               stride=stride, padding=1, bias=False)\n",
        "        self.bn2 = nn.BatchNorm2d(planes)\n",
        "        self.conv3 = nn.Conv2d(planes, self.expansion *\n",
        "                               planes, kernel_size=1, bias=False)\n",
        "        self.bn3 = nn.BatchNorm2d(self.expansion*planes)\n",
        "\n",
        "        self.shortcut = nn.Sequential()\n",
        "        if stride != 1 or in_planes != self.expansion*planes:\n",
        "            self.shortcut = nn.Sequential(\n",
        "                nn.Conv2d(in_planes, self.expansion*planes,\n",
        "                          kernel_size=1, stride=stride, bias=False),\n",
        "                nn.BatchNorm2d(self.expansion*planes)\n",
        "            )\n",
        "\n",
        "    def forward(self, x):\n",
        "        out = F.relu(self.bn1(self.conv1(x)))\n",
        "        out = F.relu(self.bn2(self.conv2(out)))\n",
        "        out = self.bn3(self.conv3(out))\n",
        "        out += self.shortcut(x)\n",
        "        out = F.relu(out)\n",
        "        return out\n",
        "\n",
        "\n",
        "class ResNet(nn.Module):\n",
        "    def __init__(self, block, num_blocks, num_classes=10):\n",
        "        super(ResNet, self).__init__()\n",
        "        self.in_planes = 64\n",
        "\n",
        "        self.conv1 = nn.Conv2d(3, 64, kernel_size=3,\n",
        "                               stride=1, padding=1, bias=False)\n",
        "        self.bn1 = nn.BatchNorm2d(64)\n",
        "        self.layer1 = self._make_layer(block, 64, num_blocks[0], stride=1)\n",
        "        self.layer2 = self._make_layer(block, 128, num_blocks[1], stride=2)\n",
        "        # self.layer3 = self._make_layer(block, 256, num_blocks[2], stride=2)\n",
        "        self.layer3 = self._make_layer(block, 192, num_blocks[2], stride=4)\n",
        "        # self.layer4 = self._make_layer(block, 512, num_blocks[3], stride=2)\n",
        "        # self.linear = nn.Linear(512*block.expansion, num_classes)\n",
        "        self.linear = nn.Linear(192*block.expansion, num_classes)\n",
        "\n",
        "    def _make_layer(self, block, planes, num_blocks, stride):\n",
        "        strides = [stride] + [1]*(num_blocks-1)\n",
        "        layers = []\n",
        "        for stride in strides:\n",
        "            layers.append(block(self.in_planes, planes, stride))\n",
        "            self.in_planes = planes * block.expansion\n",
        "        return nn.Sequential(*layers)\n",
        "\n",
        "    def forward(self, x):\n",
        "        out = F.relu(self.bn1(self.conv1(x)))\n",
        "        out = self.layer1(out)\n",
        "        out = self.layer2(out)\n",
        "        out = self.layer3(out)\n",
        "        # out = self.layer4(out)\n",
        "        out = F.avg_pool2d(out, 4)\n",
        "        out = out.view(out.size(0), -1)\n",
        "        out = self.linear(out)\n",
        "        return out\n",
        "\n",
        "\n",
        "def ResNet26():\n",
        "    return ResNet(BasicBlock, [4, 5, 3])\n",
        "\n",
        "\n",
        "def test():\n",
        "    net = ResNet26()\n",
        "    y = net(torch.randn(1, 3, 32, 32))\n",
        "    print(y.size())\n",
        "\n",
        "test()"
      ]
    },
    {
      "cell_type": "markdown",
      "source": [
        "### Total Trainable Parameters"
      ],
      "metadata": {
        "id": "blVQmbhVwZCB"
      }
    },
    {
      "cell_type": "code",
      "source": [
        "from torchsummary import summary\n",
        "device = \"cuda\" if torch.cuda.is_available() else \"cpu\"\n",
        "net = ResNet26()\n",
        "net = net.to(device)\n",
        "summary(net, (3, 32, 32))"
      ],
      "metadata": {
        "colab": {
          "base_uri": "https://localhost:8080/"
        },
        "id": "SnS8nmt1wktU",
        "outputId": "a8ecefa7-7660-40ef-8408-13b871e54ff3"
      },
      "execution_count": 3,
      "outputs": [
        {
          "output_type": "stream",
          "name": "stdout",
          "text": [
            "----------------------------------------------------------------\n",
            "        Layer (type)               Output Shape         Param #\n",
            "================================================================\n",
            "            Conv2d-1           [-1, 64, 32, 32]           1,728\n",
            "       BatchNorm2d-2           [-1, 64, 32, 32]             128\n",
            "            Conv2d-3           [-1, 64, 32, 32]          36,864\n",
            "       BatchNorm2d-4           [-1, 64, 32, 32]             128\n",
            "            Conv2d-5           [-1, 64, 32, 32]          36,864\n",
            "       BatchNorm2d-6           [-1, 64, 32, 32]             128\n",
            "        BasicBlock-7           [-1, 64, 32, 32]               0\n",
            "            Conv2d-8           [-1, 64, 32, 32]          36,864\n",
            "       BatchNorm2d-9           [-1, 64, 32, 32]             128\n",
            "           Conv2d-10           [-1, 64, 32, 32]          36,864\n",
            "      BatchNorm2d-11           [-1, 64, 32, 32]             128\n",
            "       BasicBlock-12           [-1, 64, 32, 32]               0\n",
            "           Conv2d-13           [-1, 64, 32, 32]          36,864\n",
            "      BatchNorm2d-14           [-1, 64, 32, 32]             128\n",
            "           Conv2d-15           [-1, 64, 32, 32]          36,864\n",
            "      BatchNorm2d-16           [-1, 64, 32, 32]             128\n",
            "       BasicBlock-17           [-1, 64, 32, 32]               0\n",
            "           Conv2d-18           [-1, 64, 32, 32]          36,864\n",
            "      BatchNorm2d-19           [-1, 64, 32, 32]             128\n",
            "           Conv2d-20           [-1, 64, 32, 32]          36,864\n",
            "      BatchNorm2d-21           [-1, 64, 32, 32]             128\n",
            "       BasicBlock-22           [-1, 64, 32, 32]               0\n",
            "           Conv2d-23          [-1, 128, 16, 16]          73,728\n",
            "      BatchNorm2d-24          [-1, 128, 16, 16]             256\n",
            "           Conv2d-25          [-1, 128, 16, 16]         147,456\n",
            "      BatchNorm2d-26          [-1, 128, 16, 16]             256\n",
            "           Conv2d-27          [-1, 128, 16, 16]           8,192\n",
            "      BatchNorm2d-28          [-1, 128, 16, 16]             256\n",
            "       BasicBlock-29          [-1, 128, 16, 16]               0\n",
            "           Conv2d-30          [-1, 128, 16, 16]         147,456\n",
            "      BatchNorm2d-31          [-1, 128, 16, 16]             256\n",
            "           Conv2d-32          [-1, 128, 16, 16]         147,456\n",
            "      BatchNorm2d-33          [-1, 128, 16, 16]             256\n",
            "       BasicBlock-34          [-1, 128, 16, 16]               0\n",
            "           Conv2d-35          [-1, 128, 16, 16]         147,456\n",
            "      BatchNorm2d-36          [-1, 128, 16, 16]             256\n",
            "           Conv2d-37          [-1, 128, 16, 16]         147,456\n",
            "      BatchNorm2d-38          [-1, 128, 16, 16]             256\n",
            "       BasicBlock-39          [-1, 128, 16, 16]               0\n",
            "           Conv2d-40          [-1, 128, 16, 16]         147,456\n",
            "      BatchNorm2d-41          [-1, 128, 16, 16]             256\n",
            "           Conv2d-42          [-1, 128, 16, 16]         147,456\n",
            "      BatchNorm2d-43          [-1, 128, 16, 16]             256\n",
            "       BasicBlock-44          [-1, 128, 16, 16]               0\n",
            "           Conv2d-45          [-1, 128, 16, 16]         147,456\n",
            "      BatchNorm2d-46          [-1, 128, 16, 16]             256\n",
            "           Conv2d-47          [-1, 128, 16, 16]         147,456\n",
            "      BatchNorm2d-48          [-1, 128, 16, 16]             256\n",
            "       BasicBlock-49          [-1, 128, 16, 16]               0\n",
            "           Conv2d-50            [-1, 192, 4, 4]         221,184\n",
            "      BatchNorm2d-51            [-1, 192, 4, 4]             384\n",
            "           Conv2d-52            [-1, 192, 4, 4]         331,776\n",
            "      BatchNorm2d-53            [-1, 192, 4, 4]             384\n",
            "           Conv2d-54            [-1, 192, 4, 4]          24,576\n",
            "      BatchNorm2d-55            [-1, 192, 4, 4]             384\n",
            "       BasicBlock-56            [-1, 192, 4, 4]               0\n",
            "           Conv2d-57            [-1, 192, 4, 4]         331,776\n",
            "      BatchNorm2d-58            [-1, 192, 4, 4]             384\n",
            "           Conv2d-59            [-1, 192, 4, 4]         331,776\n",
            "      BatchNorm2d-60            [-1, 192, 4, 4]             384\n",
            "       BasicBlock-61            [-1, 192, 4, 4]               0\n",
            "           Conv2d-62            [-1, 192, 4, 4]         331,776\n",
            "      BatchNorm2d-63            [-1, 192, 4, 4]             384\n",
            "           Conv2d-64            [-1, 192, 4, 4]         331,776\n",
            "      BatchNorm2d-65            [-1, 192, 4, 4]             384\n",
            "       BasicBlock-66            [-1, 192, 4, 4]               0\n",
            "           Linear-67                   [-1, 10]           1,930\n",
            "================================================================\n",
            "Total params: 3,618,890\n",
            "Trainable params: 3,618,890\n",
            "Non-trainable params: 0\n",
            "----------------------------------------------------------------\n",
            "Input size (MB): 0.01\n",
            "Forward/backward pass size (MB): 18.15\n",
            "Params size (MB): 13.80\n",
            "Estimated Total Size (MB): 31.97\n",
            "----------------------------------------------------------------\n"
          ]
        }
      ]
    },
    {
      "cell_type": "markdown",
      "source": [
        "### Model Criterion and Optimizer"
      ],
      "metadata": {
        "id": "uDood0WJxl6Q"
      }
    },
    {
      "cell_type": "code",
      "execution_count": 4,
      "metadata": {
        "colab": {
          "base_uri": "https://localhost:8080/"
        },
        "id": "faWqWWnNSk_E",
        "outputId": "2c201c1f-66f1-4804-f674-92e574b57464"
      },
      "outputs": [
        {
          "output_type": "stream",
          "name": "stdout",
          "text": [
            "==> Building model..\n"
          ]
        }
      ],
      "source": [
        "# Model\n",
        "print('==> Building model..')\n",
        "# net = ResNet(BasicBlock, [4, 5, 3])\n",
        "# device = 'cuda' if torch.cuda.is_available() else 'cpu'\n",
        "# net = net.to(device)\n",
        "if device == 'cuda':\n",
        "    net = torch.nn.DataParallel(net)\n",
        "    cudnn.benchmark = True\n",
        "\n",
        "'''if args.resume:\n",
        "    # Load checkpoint.\n",
        "    print('==> Resuming from checkpoint..')\n",
        "    assert os.path.isdir('checkpoint'), 'Error: no checkpoint directory found!'\n",
        "    checkpoint = torch.load('./checkpoint/ckpt.pth')\n",
        "    net.load_state_dict(checkpoint['net'])\n",
        "    best_acc = checkpoint['acc']\n",
        "    start_epoch = checkpoint['epoch']'''\n",
        "\n",
        "criterion = nn.CrossEntropyLoss()\n",
        "'''optimizer = optim.SGD(net.parameters(), lr=args.lr,\n",
        "                      momentum=0.9, weight_decay=5e-4)'''\n",
        "optimizer = optim.SGD(net.parameters(), lr=0.1,\n",
        "                      momentum=0.9, weight_decay=5e-4)\n",
        "scheduler = torch.optim.lr_scheduler.CosineAnnealingLR(optimizer, T_max= 200)"
      ]
    },
    {
      "cell_type": "markdown",
      "metadata": {
        "id": "uOQao9w4Vj8-"
      },
      "source": [
        "## Preparing Data<sup>[[1]](https://github.com/kuangliu/pytorch-cifar/blob/master/main.py)\n",
        "\n"
      ]
    },
    {
      "cell_type": "code",
      "execution_count": 5,
      "metadata": {
        "colab": {
          "base_uri": "https://localhost:8080/"
        },
        "id": "HiQOlhgGV4dM",
        "outputId": "af3bb83e-8553-47bf-ae14-34c1c05c62df"
      },
      "outputs": [
        {
          "output_type": "stream",
          "name": "stdout",
          "text": [
            "==> Preparing data..\n",
            "Downloading https://www.cs.toronto.edu/~kriz/cifar-10-python.tar.gz to ./data/cifar-10-python.tar.gz\n"
          ]
        },
        {
          "output_type": "stream",
          "name": "stderr",
          "text": [
            "100%|██████████| 170498071/170498071 [00:13<00:00, 13060050.13it/s]\n"
          ]
        },
        {
          "output_type": "stream",
          "name": "stdout",
          "text": [
            "Extracting ./data/cifar-10-python.tar.gz to ./data\n",
            "Files already downloaded and verified\n"
          ]
        }
      ],
      "source": [
        "# Data\n",
        "print('==> Preparing data..')\n",
        "transform_train = transforms.Compose([\n",
        "    transforms.RandomCrop(32, padding=4),\n",
        "    transforms.RandomHorizontalFlip(),\n",
        "    transforms.ToTensor(),\n",
        "    transforms.Normalize((0.4914, 0.4822, 0.4465), (0.2023, 0.1994, 0.2010)),\n",
        "])\n",
        "\n",
        "transform_test = transforms.Compose([\n",
        "    transforms.ToTensor(),\n",
        "    transforms.Normalize((0.4914, 0.4822, 0.4465), (0.2023, 0.1994, 0.2010)),\n",
        "])\n",
        "\n",
        "trainset = torchvision.datasets.CIFAR10(\n",
        "    root='./data', train=True, download=True, transform=transform_train)\n",
        "trainloader = torch.utils.data.DataLoader(\n",
        "    trainset, batch_size=128, shuffle=True, num_workers=2)\n",
        "\n",
        "testset = torchvision.datasets.CIFAR10(\n",
        "    root='./data', train=False, download=True, transform=transform_test)\n",
        "testloader = torch.utils.data.DataLoader(\n",
        "    testset, batch_size=100, shuffle=False, num_workers=2)\n",
        "\n",
        "classes = ('plane', 'car', 'bird', 'cat', 'deer',\n",
        "           'dog', 'frog', 'horse', 'ship', 'truck')"
      ]
    },
    {
      "cell_type": "markdown",
      "metadata": {
        "id": "LYw05AKJWTPR"
      },
      "source": [
        "## Define Train Function<sup>[[1]](https://github.com/kuangliu/pytorch-cifar/blob/master/main.py)"
      ]
    },
    {
      "cell_type": "code",
      "execution_count": 6,
      "metadata": {
        "id": "DSIbyL9jQUh6"
      },
      "outputs": [],
      "source": [
        "# Training\n",
        "def train(epoch):\n",
        "    # print('\\nEpoch: %d' % epoch)\n",
        "    net.train()\n",
        "    train_loss = 0\n",
        "    correct = 0\n",
        "    total = 0\n",
        "    for batch_idx, (inputs, targets) in enumerate(trainloader):\n",
        "        inputs, targets = inputs.to(device), targets.to(device)\n",
        "        optimizer.zero_grad()\n",
        "        outputs = net(inputs)\n",
        "        loss = criterion(outputs, targets)\n",
        "        loss.backward()\n",
        "        optimizer.step()\n",
        "\n",
        "        train_loss += loss.item()\n",
        "        _, predicted = outputs.max(1)\n",
        "        total += targets.size(0)\n",
        "        correct += predicted.eq(targets).sum().item()\n",
        "\n",
        "        '''progress_bar(batch_idx, len(trainloader), 'Loss: %.3f | Acc: %.3f%% (%d/%d)' \n",
        "                     % (train_loss/(batch_idx+1), 100.*correct/total, correct, total))'''\n",
        "    aver_train_loss = float(train_loss/(batch_idx+1))\n",
        "    aver_train_accuracy = float(correct/total)\n",
        "    return aver_train_loss, aver_train_accuracy"
      ]
    },
    {
      "cell_type": "markdown",
      "metadata": {
        "id": "f9241oeMWdoJ"
      },
      "source": [
        "## Define Test Function<sup>[[1]](https://github.com/kuangliu/pytorch-cifar/blob/master/main.py)"
      ]
    },
    {
      "cell_type": "code",
      "execution_count": 7,
      "metadata": {
        "id": "i7Vj4fVGRQDY"
      },
      "outputs": [],
      "source": [
        "best_acc = 0  # best test accuracy\n",
        "def test(epoch):\n",
        "    global best_acc\n",
        "    net.eval()\n",
        "    test_loss = 0\n",
        "    correct = 0\n",
        "    total = 0\n",
        "    with torch.no_grad():\n",
        "        for batch_idx, (inputs, targets) in enumerate(testloader):\n",
        "            inputs, targets = inputs.to(device), targets.to(device)\n",
        "            outputs = net(inputs)\n",
        "            loss = criterion(outputs, targets)\n",
        "\n",
        "            test_loss += loss.item()\n",
        "            _, predicted = outputs.max(1)\n",
        "            total += targets.size(0)\n",
        "            correct += predicted.eq(targets).sum().item()\n",
        "\n",
        "            '''progress_bar(batch_idx, len(testloader), 'Loss: %.3f | Acc: %.3f%% (%d/%d)' \n",
        "                         % (test_loss/(batch_idx+1), 100.*correct/total, correct, total))'''\n",
        "\n",
        "    # Save checkpoint.\n",
        "    acc = 100.*correct/total\n",
        "    if acc > best_acc:\n",
        "        # print('Saving..')\n",
        "        state = {'net': net.state_dict(), 'acc': acc, 'epoch': epoch,}\n",
        "        if not os.path.isdir('checkpoint'):\n",
        "            os.mkdir('checkpoint')\n",
        "        torch.save(state, './checkpoint/ckpt_' + str_time + '.pth')\n",
        "        best_acc = acc\n",
        "\n",
        "    aver_test_loss = float(test_loss / (batch_idx + 1))\n",
        "    aver_test_accuracy = float(correct / total)\n",
        "    return aver_test_loss, aver_test_accuracy"
      ]
    },
    {
      "cell_type": "markdown",
      "metadata": {
        "id": "trGTzOHnWqeD"
      },
      "source": [
        "## Train and Test"
      ]
    },
    {
      "cell_type": "code",
      "execution_count": 8,
      "metadata": {
        "colab": {
          "base_uri": "https://localhost:8080/"
        },
        "id": "4DsZfMvIWzvB",
        "outputId": "1d555ce8-d842-48ea-9a71-51d964d9692b"
      },
      "outputs": [
        {
          "output_type": "stream",
          "name": "stdout",
          "text": [
            "Epoch 10/200, Train Loss 0.536, Train Acc 0.815, Test Loss 0.659, Test Acc 0.771\n",
            "Epoch 20/200, Train Loss 0.427, Train Acc 0.854, Test Loss 0.585, Test Acc 0.806\n",
            "Epoch 30/200, Train Loss 0.382, Train Acc 0.869, Test Loss 0.531, Test Acc 0.826\n",
            "Epoch 40/200, Train Loss 0.363, Train Acc 0.877, Test Loss 0.893, Test Acc 0.736\n",
            "Epoch 50/200, Train Loss 0.340, Train Acc 0.884, Test Loss 0.855, Test Acc 0.760\n",
            "Epoch 60/200, Train Loss 0.314, Train Acc 0.894, Test Loss 0.497, Test Acc 0.832\n",
            "Epoch 70/200, Train Loss 0.288, Train Acc 0.903, Test Loss 0.374, Test Acc 0.875\n",
            "Epoch 80/200, Train Loss 0.272, Train Acc 0.908, Test Loss 0.474, Test Acc 0.851\n",
            "Epoch 90/200, Train Loss 0.245, Train Acc 0.916, Test Loss 0.379, Test Acc 0.876\n",
            "Epoch 100/200, Train Loss 0.214, Train Acc 0.925, Test Loss 0.312, Test Acc 0.894\n",
            "Epoch 110/200, Train Loss 0.190, Train Acc 0.934, Test Loss 0.352, Test Acc 0.887\n",
            "Epoch 120/200, Train Loss 0.161, Train Acc 0.945, Test Loss 0.369, Test Acc 0.887\n",
            "Epoch 130/200, Train Loss 0.128, Train Acc 0.957, Test Loss 0.293, Test Acc 0.910\n",
            "Epoch 140/200, Train Loss 0.098, Train Acc 0.968, Test Loss 0.293, Test Acc 0.914\n",
            "Epoch 150/200, Train Loss 0.061, Train Acc 0.980, Test Loss 0.281, Test Acc 0.920\n",
            "Epoch 160/200, Train Loss 0.030, Train Acc 0.990, Test Loss 0.246, Test Acc 0.933\n",
            "Epoch 170/200, Train Loss 0.009, Train Acc 0.998, Test Loss 0.216, Test Acc 0.945\n",
            "Epoch 180/200, Train Loss 0.003, Train Acc 1.000, Test Loss 0.198, Test Acc 0.953\n",
            "Epoch 190/200, Train Loss 0.002, Train Acc 1.000, Test Loss 0.186, Test Acc 0.954\n",
            "Epoch 200/200, Train Loss 0.002, Train Acc 1.000, Test Loss 0.185, Test Acc 0.955\n",
            "Best Acc: 95.54%\n"
          ]
        }
      ],
      "source": [
        "import json\n",
        "import collections\n",
        "\n",
        "EPOCH = 200\n",
        "start_epoch = 0 # start from epoch 0 or last checkpoint epoch\n",
        "JSON_FILE = './epoch_data_Resnet_cos_steplr_'+ str_time +'.json'\n",
        "epoch_data = collections.OrderedDict()\n",
        "for epoch in range(start_epoch, start_epoch+EPOCH):\n",
        "    train_loss, train_accuracy = train(epoch)\n",
        "    epoch_data[epoch] = {'train_loss': train_loss, 'train_accuracy': train_accuracy}\n",
        "    test_loss, test_accuracy = test(epoch)\n",
        "    epoch_data[epoch]['test_loss'], epoch_data[epoch]['test_accuracy'] = test_loss, test_accuracy\n",
        "    scheduler.step()\n",
        "    if epoch % 10 == 9:\n",
        "      print(f'Epoch {epoch+1}/{EPOCH}, Train Loss {train_loss:.3f}, Train Acc {train_accuracy:.3f}, Test Loss {test_loss:.3f}, Test Acc {test_accuracy:.3f}')\n",
        "\n",
        "epoch_data_json = json.dumps(epoch_data)\n",
        "json_file = open(JSON_FILE, 'w')\n",
        "json_file.write(epoch_data_json)\n",
        "json_file.close()\n",
        "print(f'Best Acc: {best_acc}%')"
      ]
    },
    {
      "cell_type": "markdown",
      "metadata": {
        "id": "p_JQGc5NlEri"
      },
      "source": [
        "## Data Analysis<sup>"
      ]
    },
    {
      "cell_type": "code",
      "execution_count": 9,
      "metadata": {
        "id": "P2SGAGX0lT0-",
        "outputId": "c7b3db01-3e7c-4af2-9988-d94fcc569b38",
        "colab": {
          "base_uri": "https://localhost:8080/",
          "height": 449
        }
      },
      "outputs": [
        {
          "output_type": "display_data",
          "data": {
            "text/plain": [
              "<Figure size 640x480 with 1 Axes>"
            ],
            "image/png": "[encoded data removed]"
          },
          "metadata": {}
        }
      ],
      "source": [
        "import matplotlib.pyplot as plt\n",
        "\n",
        "f = open(JSON_FILE)\n",
        "data1 = json.load(f)\n",
        "f.close()\n",
        "\n",
        "FEATURE = 'test_accuracy'\n",
        "\n",
        "x = [i for i in range(EPOCH)]\n",
        "feature1 = [data1[str(k)][FEATURE] for k in range(EPOCH)]\n",
        "\n",
        "plt.plot(x, feature1, label=FEATURE)\n",
        "plt.legend()\n",
        "plt.ylabel('accuracy')\n",
        "plt.xlabel('epoch')\n",
        "plt.grid()\n",
        "plt.show()\n"
      ]
    }
  ]
}