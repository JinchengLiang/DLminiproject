{
  "nbformat": 4,
  "nbformat_minor": 0,
  "metadata": {
    "colab": {
      "provenance": []
    },
    "kernelspec": {
      "name": "python3",
      "display_name": "Python 3"
    },
    "language_info": {
      "name": "python"
    }
  },
  "cells": [
    {
      "cell_type": "markdown",
      "source": [
        "# ResNet with 3 residual layers\n",
        "\n",
        "Upload [resnet3l.py](https://github.com/JinchengLiang/DLminiproject/blob/main/resnet3l.py) frist."
      ],
      "metadata": {
        "id": "8Wq8bSpJESXs"
      }
    },
    {
      "cell_type": "code",
      "source": [
        "from resnet3l import *\n",
        "from torchsummary import summary\n",
        "device = \"cuda\" if torch.cuda.is_available() else \"cpu\"\n"
      ],
      "metadata": {
        "id": "lKbI2FxFPHXZ"
      },
      "execution_count": 10,
      "outputs": []
    },
    {
      "cell_type": "markdown",
      "source": [
        "## ResNet Parameters"
      ],
      "metadata": {
        "id": "Krw-xY2SHWui"
      }
    },
    {
      "cell_type": "markdown",
      "source": [
        "### ResNet14"
      ],
      "metadata": {
        "id": "r8ckQeeXH1q-"
      }
    },
    {
      "cell_type": "code",
      "source": [
        "net = ResNet14()\n",
        "net = net.to(device)\n",
        "summary(net, (3, 32, 32))"
      ],
      "metadata": {
        "colab": {
          "base_uri": "https://localhost:8080/"
        },
        "id": "8LtyjdljHXYp",
        "outputId": "e968fcdf-8a31-4105-a2f7-61dc26529d26"
      },
      "execution_count": 11,
      "outputs": [
        {
          "output_type": "stream",
          "name": "stdout",
          "text": [
            "----------------------------------------------------------------\n",
            "        Layer (type)               Output Shape         Param #\n",
            "================================================================\n",
            "            Conv2d-1           [-1, 64, 32, 32]           1,728\n",
            "       BatchNorm2d-2           [-1, 64, 32, 32]             128\n",
            "            Conv2d-3           [-1, 64, 32, 32]          36,864\n",
            "       BatchNorm2d-4           [-1, 64, 32, 32]             128\n",
            "            Conv2d-5           [-1, 64, 32, 32]          36,864\n",
            "       BatchNorm2d-6           [-1, 64, 32, 32]             128\n",
            "        BasicBlock-7           [-1, 64, 32, 32]               0\n",
            "            Conv2d-8           [-1, 64, 32, 32]          36,864\n",
            "       BatchNorm2d-9           [-1, 64, 32, 32]             128\n",
            "           Conv2d-10           [-1, 64, 32, 32]          36,864\n",
            "      BatchNorm2d-11           [-1, 64, 32, 32]             128\n",
            "       BasicBlock-12           [-1, 64, 32, 32]               0\n",
            "           Conv2d-13          [-1, 128, 16, 16]          73,728\n",
            "      BatchNorm2d-14          [-1, 128, 16, 16]             256\n",
            "           Conv2d-15          [-1, 128, 16, 16]         147,456\n",
            "      BatchNorm2d-16          [-1, 128, 16, 16]             256\n",
            "           Conv2d-17          [-1, 128, 16, 16]           8,192\n",
            "      BatchNorm2d-18          [-1, 128, 16, 16]             256\n",
            "       BasicBlock-19          [-1, 128, 16, 16]               0\n",
            "           Conv2d-20          [-1, 128, 16, 16]         147,456\n",
            "      BatchNorm2d-21          [-1, 128, 16, 16]             256\n",
            "           Conv2d-22          [-1, 128, 16, 16]         147,456\n",
            "      BatchNorm2d-23          [-1, 128, 16, 16]             256\n",
            "       BasicBlock-24          [-1, 128, 16, 16]               0\n",
            "           Conv2d-25            [-1, 256, 4, 4]         294,912\n",
            "      BatchNorm2d-26            [-1, 256, 4, 4]             512\n",
            "           Conv2d-27            [-1, 256, 4, 4]         589,824\n",
            "      BatchNorm2d-28            [-1, 256, 4, 4]             512\n",
            "           Conv2d-29            [-1, 256, 4, 4]          32,768\n",
            "      BatchNorm2d-30            [-1, 256, 4, 4]             512\n",
            "       BasicBlock-31            [-1, 256, 4, 4]               0\n",
            "           Conv2d-32            [-1, 256, 4, 4]         589,824\n",
            "      BatchNorm2d-33            [-1, 256, 4, 4]             512\n",
            "           Conv2d-34            [-1, 256, 4, 4]         589,824\n",
            "      BatchNorm2d-35            [-1, 256, 4, 4]             512\n",
            "       BasicBlock-36            [-1, 256, 4, 4]               0\n",
            "           Linear-37                   [-1, 10]           2,570\n",
            "================================================================\n",
            "Total params: 2,777,674\n",
            "Trainable params: 2,777,674\n",
            "Non-trainable params: 0\n",
            "----------------------------------------------------------------\n",
            "Input size (MB): 0.01\n",
            "Forward/backward pass size (MB): 9.38\n",
            "Params size (MB): 10.60\n",
            "Estimated Total Size (MB): 19.98\n",
            "----------------------------------------------------------------\n"
          ]
        }
      ]
    },
    {
      "cell_type": "markdown",
      "source": [
        "## ResNet26"
      ],
      "metadata": {
        "id": "PT79xqGoIowK"
      }
    },
    {
      "cell_type": "markdown",
      "source": [
        "### Let's try $B = [4, 4, 4]$"
      ],
      "metadata": {
        "id": "t3SEQuJDJjiz"
      }
    },
    {
      "cell_type": "code",
      "source": [
        "net = ResNet(BasicBlock, [4, 4, 4])\n",
        "net = net.to(device)\n",
        "summary(net, (3, 32, 32))"
      ],
      "metadata": {
        "colab": {
          "base_uri": "https://localhost:8080/"
        },
        "id": "4v69KlYsIzEz",
        "outputId": "9c8752fa-f9c4-4ec9-9a03-2893b17174f8"
      },
      "execution_count": 12,
      "outputs": [
        {
          "output_type": "stream",
          "name": "stdout",
          "text": [
            "----------------------------------------------------------------\n",
            "        Layer (type)               Output Shape         Param #\n",
            "================================================================\n",
            "            Conv2d-1           [-1, 64, 32, 32]           1,728\n",
            "       BatchNorm2d-2           [-1, 64, 32, 32]             128\n",
            "            Conv2d-3           [-1, 64, 32, 32]          36,864\n",
            "       BatchNorm2d-4           [-1, 64, 32, 32]             128\n",
            "            Conv2d-5           [-1, 64, 32, 32]          36,864\n",
            "       BatchNorm2d-6           [-1, 64, 32, 32]             128\n",
            "        BasicBlock-7           [-1, 64, 32, 32]               0\n",
            "            Conv2d-8           [-1, 64, 32, 32]          36,864\n",
            "       BatchNorm2d-9           [-1, 64, 32, 32]             128\n",
            "           Conv2d-10           [-1, 64, 32, 32]          36,864\n",
            "      BatchNorm2d-11           [-1, 64, 32, 32]             128\n",
            "       BasicBlock-12           [-1, 64, 32, 32]               0\n",
            "           Conv2d-13           [-1, 64, 32, 32]          36,864\n",
            "      BatchNorm2d-14           [-1, 64, 32, 32]             128\n",
            "           Conv2d-15           [-1, 64, 32, 32]          36,864\n",
            "      BatchNorm2d-16           [-1, 64, 32, 32]             128\n",
            "       BasicBlock-17           [-1, 64, 32, 32]               0\n",
            "           Conv2d-18           [-1, 64, 32, 32]          36,864\n",
            "      BatchNorm2d-19           [-1, 64, 32, 32]             128\n",
            "           Conv2d-20           [-1, 64, 32, 32]          36,864\n",
            "      BatchNorm2d-21           [-1, 64, 32, 32]             128\n",
            "       BasicBlock-22           [-1, 64, 32, 32]               0\n",
            "           Conv2d-23          [-1, 128, 16, 16]          73,728\n",
            "      BatchNorm2d-24          [-1, 128, 16, 16]             256\n",
            "           Conv2d-25          [-1, 128, 16, 16]         147,456\n",
            "      BatchNorm2d-26          [-1, 128, 16, 16]             256\n",
            "           Conv2d-27          [-1, 128, 16, 16]           8,192\n",
            "      BatchNorm2d-28          [-1, 128, 16, 16]             256\n",
            "       BasicBlock-29          [-1, 128, 16, 16]               0\n",
            "           Conv2d-30          [-1, 128, 16, 16]         147,456\n",
            "      BatchNorm2d-31          [-1, 128, 16, 16]             256\n",
            "           Conv2d-32          [-1, 128, 16, 16]         147,456\n",
            "      BatchNorm2d-33          [-1, 128, 16, 16]             256\n",
            "       BasicBlock-34          [-1, 128, 16, 16]               0\n",
            "           Conv2d-35          [-1, 128, 16, 16]         147,456\n",
            "      BatchNorm2d-36          [-1, 128, 16, 16]             256\n",
            "           Conv2d-37          [-1, 128, 16, 16]         147,456\n",
            "      BatchNorm2d-38          [-1, 128, 16, 16]             256\n",
            "       BasicBlock-39          [-1, 128, 16, 16]               0\n",
            "           Conv2d-40          [-1, 128, 16, 16]         147,456\n",
            "      BatchNorm2d-41          [-1, 128, 16, 16]             256\n",
            "           Conv2d-42          [-1, 128, 16, 16]         147,456\n",
            "      BatchNorm2d-43          [-1, 128, 16, 16]             256\n",
            "       BasicBlock-44          [-1, 128, 16, 16]               0\n",
            "           Conv2d-45            [-1, 256, 4, 4]         294,912\n",
            "      BatchNorm2d-46            [-1, 256, 4, 4]             512\n",
            "           Conv2d-47            [-1, 256, 4, 4]         589,824\n",
            "      BatchNorm2d-48            [-1, 256, 4, 4]             512\n",
            "           Conv2d-49            [-1, 256, 4, 4]          32,768\n",
            "      BatchNorm2d-50            [-1, 256, 4, 4]             512\n",
            "       BasicBlock-51            [-1, 256, 4, 4]               0\n",
            "           Conv2d-52            [-1, 256, 4, 4]         589,824\n",
            "      BatchNorm2d-53            [-1, 256, 4, 4]             512\n",
            "           Conv2d-54            [-1, 256, 4, 4]         589,824\n",
            "      BatchNorm2d-55            [-1, 256, 4, 4]             512\n",
            "       BasicBlock-56            [-1, 256, 4, 4]               0\n",
            "           Conv2d-57            [-1, 256, 4, 4]         589,824\n",
            "      BatchNorm2d-58            [-1, 256, 4, 4]             512\n",
            "           Conv2d-59            [-1, 256, 4, 4]         589,824\n",
            "      BatchNorm2d-60            [-1, 256, 4, 4]             512\n",
            "       BasicBlock-61            [-1, 256, 4, 4]               0\n",
            "           Conv2d-62            [-1, 256, 4, 4]         589,824\n",
            "      BatchNorm2d-63            [-1, 256, 4, 4]             512\n",
            "           Conv2d-64            [-1, 256, 4, 4]         589,824\n",
            "      BatchNorm2d-65            [-1, 256, 4, 4]             512\n",
            "       BasicBlock-66            [-1, 256, 4, 4]               0\n",
            "           Linear-67                   [-1, 10]           2,570\n",
            "================================================================\n",
            "Total params: 5,877,834\n",
            "Trainable params: 5,877,834\n",
            "Non-trainable params: 0\n",
            "----------------------------------------------------------------\n",
            "Input size (MB): 0.01\n",
            "Forward/backward pass size (MB): 17.19\n",
            "Params size (MB): 22.42\n",
            "Estimated Total Size (MB): 39.62\n",
            "----------------------------------------------------------------\n"
          ]
        }
      ]
    },
    {
      "cell_type": "markdown",
      "source": [
        "Failed!"
      ],
      "metadata": {
        "id": "FOcZugvRJcRc"
      }
    },
    {
      "cell_type": "markdown",
      "source": [
        "### Let's try $B = [4, 5, 3]$"
      ],
      "metadata": {
        "id": "nAbPxDxPJEiP"
      }
    },
    {
      "cell_type": "code",
      "source": [
        "net = ResNet(BasicBlock, [4, 5, 3])\n",
        "net = net.to(device)\n",
        "summary(net, (3, 32, 32))"
      ],
      "metadata": {
        "colab": {
          "base_uri": "https://localhost:8080/"
        },
        "id": "QSldhYx_JKge",
        "outputId": "f5edf95d-0507-4da8-e12f-717f21970af3"
      },
      "execution_count": 13,
      "outputs": [
        {
          "output_type": "stream",
          "name": "stdout",
          "text": [
            "----------------------------------------------------------------\n",
            "        Layer (type)               Output Shape         Param #\n",
            "================================================================\n",
            "            Conv2d-1           [-1, 64, 32, 32]           1,728\n",
            "       BatchNorm2d-2           [-1, 64, 32, 32]             128\n",
            "            Conv2d-3           [-1, 64, 32, 32]          36,864\n",
            "       BatchNorm2d-4           [-1, 64, 32, 32]             128\n",
            "            Conv2d-5           [-1, 64, 32, 32]          36,864\n",
            "       BatchNorm2d-6           [-1, 64, 32, 32]             128\n",
            "        BasicBlock-7           [-1, 64, 32, 32]               0\n",
            "            Conv2d-8           [-1, 64, 32, 32]          36,864\n",
            "       BatchNorm2d-9           [-1, 64, 32, 32]             128\n",
            "           Conv2d-10           [-1, 64, 32, 32]          36,864\n",
            "      BatchNorm2d-11           [-1, 64, 32, 32]             128\n",
            "       BasicBlock-12           [-1, 64, 32, 32]               0\n",
            "           Conv2d-13           [-1, 64, 32, 32]          36,864\n",
            "      BatchNorm2d-14           [-1, 64, 32, 32]             128\n",
            "           Conv2d-15           [-1, 64, 32, 32]          36,864\n",
            "      BatchNorm2d-16           [-1, 64, 32, 32]             128\n",
            "       BasicBlock-17           [-1, 64, 32, 32]               0\n",
            "           Conv2d-18           [-1, 64, 32, 32]          36,864\n",
            "      BatchNorm2d-19           [-1, 64, 32, 32]             128\n",
            "           Conv2d-20           [-1, 64, 32, 32]          36,864\n",
            "      BatchNorm2d-21           [-1, 64, 32, 32]             128\n",
            "       BasicBlock-22           [-1, 64, 32, 32]               0\n",
            "           Conv2d-23          [-1, 128, 16, 16]          73,728\n",
            "      BatchNorm2d-24          [-1, 128, 16, 16]             256\n",
            "           Conv2d-25          [-1, 128, 16, 16]         147,456\n",
            "      BatchNorm2d-26          [-1, 128, 16, 16]             256\n",
            "           Conv2d-27          [-1, 128, 16, 16]           8,192\n",
            "      BatchNorm2d-28          [-1, 128, 16, 16]             256\n",
            "       BasicBlock-29          [-1, 128, 16, 16]               0\n",
            "           Conv2d-30          [-1, 128, 16, 16]         147,456\n",
            "      BatchNorm2d-31          [-1, 128, 16, 16]             256\n",
            "           Conv2d-32          [-1, 128, 16, 16]         147,456\n",
            "      BatchNorm2d-33          [-1, 128, 16, 16]             256\n",
            "       BasicBlock-34          [-1, 128, 16, 16]               0\n",
            "           Conv2d-35          [-1, 128, 16, 16]         147,456\n",
            "      BatchNorm2d-36          [-1, 128, 16, 16]             256\n",
            "           Conv2d-37          [-1, 128, 16, 16]         147,456\n",
            "      BatchNorm2d-38          [-1, 128, 16, 16]             256\n",
            "       BasicBlock-39          [-1, 128, 16, 16]               0\n",
            "           Conv2d-40          [-1, 128, 16, 16]         147,456\n",
            "      BatchNorm2d-41          [-1, 128, 16, 16]             256\n",
            "           Conv2d-42          [-1, 128, 16, 16]         147,456\n",
            "      BatchNorm2d-43          [-1, 128, 16, 16]             256\n",
            "       BasicBlock-44          [-1, 128, 16, 16]               0\n",
            "           Conv2d-45          [-1, 128, 16, 16]         147,456\n",
            "      BatchNorm2d-46          [-1, 128, 16, 16]             256\n",
            "           Conv2d-47          [-1, 128, 16, 16]         147,456\n",
            "      BatchNorm2d-48          [-1, 128, 16, 16]             256\n",
            "       BasicBlock-49          [-1, 128, 16, 16]               0\n",
            "           Conv2d-50            [-1, 256, 4, 4]         294,912\n",
            "      BatchNorm2d-51            [-1, 256, 4, 4]             512\n",
            "           Conv2d-52            [-1, 256, 4, 4]         589,824\n",
            "      BatchNorm2d-53            [-1, 256, 4, 4]             512\n",
            "           Conv2d-54            [-1, 256, 4, 4]          32,768\n",
            "      BatchNorm2d-55            [-1, 256, 4, 4]             512\n",
            "       BasicBlock-56            [-1, 256, 4, 4]               0\n",
            "           Conv2d-57            [-1, 256, 4, 4]         589,824\n",
            "      BatchNorm2d-58            [-1, 256, 4, 4]             512\n",
            "           Conv2d-59            [-1, 256, 4, 4]         589,824\n",
            "      BatchNorm2d-60            [-1, 256, 4, 4]             512\n",
            "       BasicBlock-61            [-1, 256, 4, 4]               0\n",
            "           Conv2d-62            [-1, 256, 4, 4]         589,824\n",
            "      BatchNorm2d-63            [-1, 256, 4, 4]             512\n",
            "           Conv2d-64            [-1, 256, 4, 4]         589,824\n",
            "      BatchNorm2d-65            [-1, 256, 4, 4]             512\n",
            "       BasicBlock-66            [-1, 256, 4, 4]               0\n",
            "           Linear-67                   [-1, 10]           2,570\n",
            "================================================================\n",
            "Total params: 4,992,586\n",
            "Trainable params: 4,992,586\n",
            "Non-trainable params: 0\n",
            "----------------------------------------------------------------\n",
            "Input size (MB): 0.01\n",
            "Forward/backward pass size (MB): 18.28\n",
            "Params size (MB): 19.05\n",
            "Estimated Total Size (MB): 37.34\n",
            "----------------------------------------------------------------\n"
          ]
        }
      ]
    },
    {
      "cell_type": "markdown",
      "source": [
        "Successful!"
      ],
      "metadata": {
        "id": "70xE7_xkJzns"
      }
    },
    {
      "cell_type": "markdown",
      "source": [
        "### Let's try $B =[5, 4, 3]$"
      ],
      "metadata": {
        "id": "0O3u5H6qPg2A"
      }
    },
    {
      "cell_type": "code",
      "source": [
        "net = ResNet(BasicBlock, [5, 4, 3])\n",
        "net = net.to(device)\n",
        "summary(net, (3, 32, 32))"
      ],
      "metadata": {
        "colab": {
          "base_uri": "https://localhost:8080/"
        },
        "id": "bcoIn4rQPvfU",
        "outputId": "60898f22-4634-484d-981e-44c32cd17541"
      },
      "execution_count": 14,
      "outputs": [
        {
          "output_type": "stream",
          "name": "stdout",
          "text": [
            "----------------------------------------------------------------\n",
            "        Layer (type)               Output Shape         Param #\n",
            "================================================================\n",
            "            Conv2d-1           [-1, 64, 32, 32]           1,728\n",
            "       BatchNorm2d-2           [-1, 64, 32, 32]             128\n",
            "            Conv2d-3           [-1, 64, 32, 32]          36,864\n",
            "       BatchNorm2d-4           [-1, 64, 32, 32]             128\n",
            "            Conv2d-5           [-1, 64, 32, 32]          36,864\n",
            "       BatchNorm2d-6           [-1, 64, 32, 32]             128\n",
            "        BasicBlock-7           [-1, 64, 32, 32]               0\n",
            "            Conv2d-8           [-1, 64, 32, 32]          36,864\n",
            "       BatchNorm2d-9           [-1, 64, 32, 32]             128\n",
            "           Conv2d-10           [-1, 64, 32, 32]          36,864\n",
            "      BatchNorm2d-11           [-1, 64, 32, 32]             128\n",
            "       BasicBlock-12           [-1, 64, 32, 32]               0\n",
            "           Conv2d-13           [-1, 64, 32, 32]          36,864\n",
            "      BatchNorm2d-14           [-1, 64, 32, 32]             128\n",
            "           Conv2d-15           [-1, 64, 32, 32]          36,864\n",
            "      BatchNorm2d-16           [-1, 64, 32, 32]             128\n",
            "       BasicBlock-17           [-1, 64, 32, 32]               0\n",
            "           Conv2d-18           [-1, 64, 32, 32]          36,864\n",
            "      BatchNorm2d-19           [-1, 64, 32, 32]             128\n",
            "           Conv2d-20           [-1, 64, 32, 32]          36,864\n",
            "      BatchNorm2d-21           [-1, 64, 32, 32]             128\n",
            "       BasicBlock-22           [-1, 64, 32, 32]               0\n",
            "           Conv2d-23           [-1, 64, 32, 32]          36,864\n",
            "      BatchNorm2d-24           [-1, 64, 32, 32]             128\n",
            "           Conv2d-25           [-1, 64, 32, 32]          36,864\n",
            "      BatchNorm2d-26           [-1, 64, 32, 32]             128\n",
            "       BasicBlock-27           [-1, 64, 32, 32]               0\n",
            "           Conv2d-28          [-1, 128, 16, 16]          73,728\n",
            "      BatchNorm2d-29          [-1, 128, 16, 16]             256\n",
            "           Conv2d-30          [-1, 128, 16, 16]         147,456\n",
            "      BatchNorm2d-31          [-1, 128, 16, 16]             256\n",
            "           Conv2d-32          [-1, 128, 16, 16]           8,192\n",
            "      BatchNorm2d-33          [-1, 128, 16, 16]             256\n",
            "       BasicBlock-34          [-1, 128, 16, 16]               0\n",
            "           Conv2d-35          [-1, 128, 16, 16]         147,456\n",
            "      BatchNorm2d-36          [-1, 128, 16, 16]             256\n",
            "           Conv2d-37          [-1, 128, 16, 16]         147,456\n",
            "      BatchNorm2d-38          [-1, 128, 16, 16]             256\n",
            "       BasicBlock-39          [-1, 128, 16, 16]               0\n",
            "           Conv2d-40          [-1, 128, 16, 16]         147,456\n",
            "      BatchNorm2d-41          [-1, 128, 16, 16]             256\n",
            "           Conv2d-42          [-1, 128, 16, 16]         147,456\n",
            "      BatchNorm2d-43          [-1, 128, 16, 16]             256\n",
            "       BasicBlock-44          [-1, 128, 16, 16]               0\n",
            "           Conv2d-45          [-1, 128, 16, 16]         147,456\n",
            "      BatchNorm2d-46          [-1, 128, 16, 16]             256\n",
            "           Conv2d-47          [-1, 128, 16, 16]         147,456\n",
            "      BatchNorm2d-48          [-1, 128, 16, 16]             256\n",
            "       BasicBlock-49          [-1, 128, 16, 16]               0\n",
            "           Conv2d-50            [-1, 256, 4, 4]         294,912\n",
            "      BatchNorm2d-51            [-1, 256, 4, 4]             512\n",
            "           Conv2d-52            [-1, 256, 4, 4]         589,824\n",
            "      BatchNorm2d-53            [-1, 256, 4, 4]             512\n",
            "           Conv2d-54            [-1, 256, 4, 4]          32,768\n",
            "      BatchNorm2d-55            [-1, 256, 4, 4]             512\n",
            "       BasicBlock-56            [-1, 256, 4, 4]               0\n",
            "           Conv2d-57            [-1, 256, 4, 4]         589,824\n",
            "      BatchNorm2d-58            [-1, 256, 4, 4]             512\n",
            "           Conv2d-59            [-1, 256, 4, 4]         589,824\n",
            "      BatchNorm2d-60            [-1, 256, 4, 4]             512\n",
            "       BasicBlock-61            [-1, 256, 4, 4]               0\n",
            "           Conv2d-62            [-1, 256, 4, 4]         589,824\n",
            "      BatchNorm2d-63            [-1, 256, 4, 4]             512\n",
            "           Conv2d-64            [-1, 256, 4, 4]         589,824\n",
            "      BatchNorm2d-65            [-1, 256, 4, 4]             512\n",
            "       BasicBlock-66            [-1, 256, 4, 4]               0\n",
            "           Linear-67                   [-1, 10]           2,570\n",
            "================================================================\n",
            "Total params: 4,771,146\n",
            "Trainable params: 4,771,146\n",
            "Non-trainable params: 0\n",
            "----------------------------------------------------------------\n",
            "Input size (MB): 0.01\n",
            "Forward/backward pass size (MB): 19.53\n",
            "Params size (MB): 18.20\n",
            "Estimated Total Size (MB): 37.74\n",
            "----------------------------------------------------------------\n"
          ]
        }
      ]
    },
    {
      "cell_type": "markdown",
      "source": [
        "Successful!"
      ],
      "metadata": {
        "id": "VGXzqhZnP3Mr"
      }
    }
  ]
}